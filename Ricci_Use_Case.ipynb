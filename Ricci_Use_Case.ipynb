{
  "nbformat": 4,
  "nbformat_minor": 0,
  "metadata": {
    "colab": {
      "name": "RicciUseCase.ipynb",
      "provenance": [],
      "collapsed_sections": []
    },
    "kernelspec": {
      "name": "python3",
      "display_name": "Python 3"
    },
    "accelerator": "GPU"
  },
  "cells": [
    {
      "cell_type": "code",
      "metadata": {
        "id": "RbsdaJIjbA-S",
        "colab_type": "code",
        "outputId": "6a36be21-4329-476b-b7fb-c5eff414025a",
        "colab": {
          "base_uri": "https://localhost:8080/",
          "height": 195
        }
      },
      "source": [
        "!pip install aif360\n",
        "from google.colab import drive\n",
        "drive.mount('/content/gdrive')"
      ],
      "execution_count": 73,
      "outputs": [
        {
          "output_type": "stream",
          "text": [
            "Requirement already satisfied: aif360 in /usr/local/lib/python3.6/dist-packages (0.2.2)\n",
            "Requirement already satisfied: scipy in /usr/local/lib/python3.6/dist-packages (from aif360) (1.4.1)\n",
            "Requirement already satisfied: scikit-learn in /usr/local/lib/python3.6/dist-packages (from aif360) (0.22.1)\n",
            "Requirement already satisfied: pandas>=0.23.3 in /usr/local/lib/python3.6/dist-packages (from aif360) (0.25.3)\n",
            "Requirement already satisfied: numpy>=1.16 in /usr/local/lib/python3.6/dist-packages (from aif360) (1.17.5)\n",
            "Requirement already satisfied: joblib>=0.11 in /usr/local/lib/python3.6/dist-packages (from scikit-learn->aif360) (0.14.1)\n",
            "Requirement already satisfied: python-dateutil>=2.6.1 in /usr/local/lib/python3.6/dist-packages (from pandas>=0.23.3->aif360) (2.6.1)\n",
            "Requirement already satisfied: pytz>=2017.2 in /usr/local/lib/python3.6/dist-packages (from pandas>=0.23.3->aif360) (2018.9)\n",
            "Requirement already satisfied: six>=1.5 in /usr/local/lib/python3.6/dist-packages (from python-dateutil>=2.6.1->pandas>=0.23.3->aif360) (1.12.0)\n",
            "Drive already mounted at /content/gdrive; to attempt to forcibly remount, call drive.mount(\"/content/gdrive\", force_remount=True).\n"
          ],
          "name": "stdout"
        }
      ]
    },
    {
      "cell_type": "code",
      "metadata": {
        "id": "lLwko0GZWvfj",
        "colab_type": "code",
        "colab": {}
      },
      "source": [
        "import sys \n",
        "import os  \n",
        "import matplotlib.pyplot as plt\n",
        "import numpy as np\n",
        "import pandas as pd\n",
        "from sklearn.model_selection import train_test_split\n",
        "import tensorflow as tf\n",
        "from aif360.algorithms.preprocessing.optim_preproc import OptimPreproc\n",
        "from aif360.algorithms.preprocessing.optim_preproc_helpers.data_preproc_functions\\\n",
        "            import load_preproc_data_adult, load_preproc_data_german, load_preproc_data_compas\n",
        "from aif360.algorithms.preprocessing.optim_preproc_helpers.distortion_functions\\\n",
        "            import get_distortion_adult, get_distortion_german, get_distortion_compas\n",
        "from aif360.algorithms.preprocessing.optim_preproc_helpers.opt_tools import OptTools\n",
        "sess = tf.Session()\n",
        "import aif360.metrics \n",
        "\n",
        "from sklearn.ensemble import RandomForestClassifier\n",
        "from sklearn.pipeline import make_pipeline\n",
        "\n",
        "import aif360.datasets\n",
        "import aif360.algorithms.preprocessing\n",
        "import aif360.algorithms.inprocessing\n",
        "import aif360.algorithms.postprocessing\n",
        "from IPython.display import Markdown, display\n",
        "from aif360.algorithms.inprocessing import MetaFairClassifier\n",
        "from aif360.algorithms.preprocessing import Reweighing\n",
        "from sklearn.model_selection import train_test_split\n",
        "\n",
        "\n",
        "def compute_metrics(dataset_true, dataset_pred, \n",
        "                    unprivileged_groups, privileged_groups,\n",
        "                    disp = True):\n",
        "    \"\"\" Compute the key metrics \"\"\"\n",
        "    classified_metric_pred = ClassificationMetric(dataset_true,\n",
        "                                                 dataset_pred, \n",
        "                                                 unprivileged_groups=unprivileged_groups,\n",
        "                                                 privileged_groups=privileged_groups)\n",
        "    metrics = OrderedDict()\n",
        "    metrics[\"Balanced accuracy\"] = 0.5*(classified_metric_pred.true_positive_rate()+\n",
        "                                             classified_metric_pred.true_negative_rate())\n",
        "    metrics[\"Statistical parity difference\"] = classified_metric_pred.statistical_parity_difference()\n",
        "    metrics[\"Disparate impact\"] = classified_metric_pred.disparate_impact()\n",
        "    metrics[\"Average odds difference\"] = classified_metric_pred.average_odds_difference()\n",
        "    metrics[\"Equal opportunity difference\"] = classified_metric_pred.equal_opportunity_difference()\n",
        "    metrics[\"Theil index\"] = classified_metric_pred.theil_index()\n",
        "    \n",
        "    if disp:\n",
        "        for k in metrics:\n",
        "            print(\"%s = %.4f\" % (k, metrics[k]))\n",
        "    \n",
        "    return metrics"
      ],
      "execution_count": 0,
      "outputs": []
    },
    {
      "cell_type": "code",
      "metadata": {
        "id": "tcvH7fQoaEJK",
        "colab_type": "code",
        "outputId": "32670221-d752-465f-e56b-6f975178418f",
        "colab": {
          "base_uri": "https://localhost:8080/",
          "height": 204
        }
      },
      "source": [
        "dataset = pd.read_csv('/content/gdrive/My Drive/Fairness inAI/Ricci.csv')\n",
        "dataset = dataset.drop(labels='Unnamed: 0', axis= 1)\n",
        "dataset.head()\n"
      ],
      "execution_count": 75,
      "outputs": [
        {
          "output_type": "execute_result",
          "data": {
            "text/html": [
              "<div>\n",
              "<style scoped>\n",
              "    .dataframe tbody tr th:only-of-type {\n",
              "        vertical-align: middle;\n",
              "    }\n",
              "\n",
              "    .dataframe tbody tr th {\n",
              "        vertical-align: top;\n",
              "    }\n",
              "\n",
              "    .dataframe thead th {\n",
              "        text-align: right;\n",
              "    }\n",
              "</style>\n",
              "<table border=\"1\" class=\"dataframe\">\n",
              "  <thead>\n",
              "    <tr style=\"text-align: right;\">\n",
              "      <th></th>\n",
              "      <th>Race</th>\n",
              "      <th>Position</th>\n",
              "      <th>Oral</th>\n",
              "      <th>Written</th>\n",
              "      <th>Combine</th>\n",
              "    </tr>\n",
              "  </thead>\n",
              "  <tbody>\n",
              "    <tr>\n",
              "      <th>0</th>\n",
              "      <td>W</td>\n",
              "      <td>Captain</td>\n",
              "      <td>89.52</td>\n",
              "      <td>95</td>\n",
              "      <td>92.808</td>\n",
              "    </tr>\n",
              "    <tr>\n",
              "      <th>1</th>\n",
              "      <td>W</td>\n",
              "      <td>Captain</td>\n",
              "      <td>80.00</td>\n",
              "      <td>95</td>\n",
              "      <td>89.000</td>\n",
              "    </tr>\n",
              "    <tr>\n",
              "      <th>2</th>\n",
              "      <td>W</td>\n",
              "      <td>Captain</td>\n",
              "      <td>82.38</td>\n",
              "      <td>87</td>\n",
              "      <td>85.152</td>\n",
              "    </tr>\n",
              "    <tr>\n",
              "      <th>3</th>\n",
              "      <td>W</td>\n",
              "      <td>Captain</td>\n",
              "      <td>88.57</td>\n",
              "      <td>76</td>\n",
              "      <td>81.028</td>\n",
              "    </tr>\n",
              "    <tr>\n",
              "      <th>4</th>\n",
              "      <td>W</td>\n",
              "      <td>Captain</td>\n",
              "      <td>76.19</td>\n",
              "      <td>84</td>\n",
              "      <td>80.876</td>\n",
              "    </tr>\n",
              "  </tbody>\n",
              "</table>\n",
              "</div>"
            ],
            "text/plain": [
              "  Race Position   Oral  Written  Combine\n",
              "0    W  Captain  89.52       95   92.808\n",
              "1    W  Captain  80.00       95   89.000\n",
              "2    W  Captain  82.38       87   85.152\n",
              "3    W  Captain  88.57       76   81.028\n",
              "4    W  Captain  76.19       84   80.876"
            ]
          },
          "metadata": {
            "tags": []
          },
          "execution_count": 75
        }
      ]
    },
    {
      "cell_type": "code",
      "metadata": {
        "id": "mVvXx6WSfI0q",
        "colab_type": "code",
        "outputId": "c47159c8-c7cb-4b05-c6a0-3c2dc2f96b37",
        "colab": {
          "base_uri": "https://localhost:8080/",
          "height": 204
        }
      },
      "source": [
        "dataset.groupby('Race').describe()"
      ],
      "execution_count": 76,
      "outputs": [
        {
          "output_type": "execute_result",
          "data": {
            "text/html": [
              "<div>\n",
              "<style scoped>\n",
              "    .dataframe tbody tr th:only-of-type {\n",
              "        vertical-align: middle;\n",
              "    }\n",
              "\n",
              "    .dataframe tbody tr th {\n",
              "        vertical-align: top;\n",
              "    }\n",
              "\n",
              "    .dataframe thead tr th {\n",
              "        text-align: left;\n",
              "    }\n",
              "\n",
              "    .dataframe thead tr:last-of-type th {\n",
              "        text-align: right;\n",
              "    }\n",
              "</style>\n",
              "<table border=\"1\" class=\"dataframe\">\n",
              "  <thead>\n",
              "    <tr>\n",
              "      <th></th>\n",
              "      <th colspan=\"8\" halign=\"left\">Oral</th>\n",
              "      <th colspan=\"8\" halign=\"left\">Written</th>\n",
              "      <th colspan=\"8\" halign=\"left\">Combine</th>\n",
              "    </tr>\n",
              "    <tr>\n",
              "      <th></th>\n",
              "      <th>count</th>\n",
              "      <th>mean</th>\n",
              "      <th>std</th>\n",
              "      <th>min</th>\n",
              "      <th>25%</th>\n",
              "      <th>50%</th>\n",
              "      <th>75%</th>\n",
              "      <th>max</th>\n",
              "      <th>count</th>\n",
              "      <th>mean</th>\n",
              "      <th>std</th>\n",
              "      <th>min</th>\n",
              "      <th>25%</th>\n",
              "      <th>50%</th>\n",
              "      <th>75%</th>\n",
              "      <th>max</th>\n",
              "      <th>count</th>\n",
              "      <th>mean</th>\n",
              "      <th>std</th>\n",
              "      <th>min</th>\n",
              "      <th>25%</th>\n",
              "      <th>50%</th>\n",
              "      <th>75%</th>\n",
              "      <th>max</th>\n",
              "    </tr>\n",
              "    <tr>\n",
              "      <th>Race</th>\n",
              "      <th></th>\n",
              "      <th></th>\n",
              "      <th></th>\n",
              "      <th></th>\n",
              "      <th></th>\n",
              "      <th></th>\n",
              "      <th></th>\n",
              "      <th></th>\n",
              "      <th></th>\n",
              "      <th></th>\n",
              "      <th></th>\n",
              "      <th></th>\n",
              "      <th></th>\n",
              "      <th></th>\n",
              "      <th></th>\n",
              "      <th></th>\n",
              "      <th></th>\n",
              "      <th></th>\n",
              "      <th></th>\n",
              "      <th></th>\n",
              "      <th></th>\n",
              "      <th></th>\n",
              "      <th></th>\n",
              "      <th></th>\n",
              "    </tr>\n",
              "  </thead>\n",
              "  <tbody>\n",
              "    <tr>\n",
              "      <th>B</th>\n",
              "      <td>27.0</td>\n",
              "      <td>63.952222</td>\n",
              "      <td>10.974650</td>\n",
              "      <td>45.83</td>\n",
              "      <td>55.415</td>\n",
              "      <td>61.25</td>\n",
              "      <td>70.6550</td>\n",
              "      <td>92.08</td>\n",
              "      <td>27.0</td>\n",
              "      <td>63.592593</td>\n",
              "      <td>10.415444</td>\n",
              "      <td>46.0</td>\n",
              "      <td>56.0</td>\n",
              "      <td>64.0</td>\n",
              "      <td>71.50</td>\n",
              "      <td>86.0</td>\n",
              "      <td>27.0</td>\n",
              "      <td>63.736444</td>\n",
              "      <td>8.744066</td>\n",
              "      <td>45.932</td>\n",
              "      <td>57.662</td>\n",
              "      <td>61.068</td>\n",
              "      <td>72.030</td>\n",
              "      <td>76.600</td>\n",
              "    </tr>\n",
              "    <tr>\n",
              "      <th>H</th>\n",
              "      <td>23.0</td>\n",
              "      <td>57.036957</td>\n",
              "      <td>10.990928</td>\n",
              "      <td>40.83</td>\n",
              "      <td>49.375</td>\n",
              "      <td>56.25</td>\n",
              "      <td>64.8200</td>\n",
              "      <td>79.05</td>\n",
              "      <td>23.0</td>\n",
              "      <td>70.869565</td>\n",
              "      <td>6.851041</td>\n",
              "      <td>58.0</td>\n",
              "      <td>66.5</td>\n",
              "      <td>71.0</td>\n",
              "      <td>73.50</td>\n",
              "      <td>84.0</td>\n",
              "      <td>23.0</td>\n",
              "      <td>65.336522</td>\n",
              "      <td>7.142540</td>\n",
              "      <td>54.132</td>\n",
              "      <td>60.078</td>\n",
              "      <td>65.000</td>\n",
              "      <td>69.946</td>\n",
              "      <td>79.676</td>\n",
              "    </tr>\n",
              "    <tr>\n",
              "      <th>W</th>\n",
              "      <td>68.0</td>\n",
              "      <td>69.017647</td>\n",
              "      <td>12.039179</td>\n",
              "      <td>44.58</td>\n",
              "      <td>58.645</td>\n",
              "      <td>71.67</td>\n",
              "      <td>77.7075</td>\n",
              "      <td>89.52</td>\n",
              "      <td>68.0</td>\n",
              "      <td>75.117647</td>\n",
              "      <td>10.048434</td>\n",
              "      <td>57.0</td>\n",
              "      <td>68.0</td>\n",
              "      <td>74.5</td>\n",
              "      <td>82.25</td>\n",
              "      <td>95.0</td>\n",
              "      <td>68.0</td>\n",
              "      <td>72.677647</td>\n",
              "      <td>8.834185</td>\n",
              "      <td>56.324</td>\n",
              "      <td>68.015</td>\n",
              "      <td>71.642</td>\n",
              "      <td>78.451</td>\n",
              "      <td>92.808</td>\n",
              "    </tr>\n",
              "  </tbody>\n",
              "</table>\n",
              "</div>"
            ],
            "text/plain": [
              "      Oral                               ... Combine                        \n",
              "     count       mean        std    min  ...     25%     50%     75%     max\n",
              "Race                                     ...                                \n",
              "B     27.0  63.952222  10.974650  45.83  ...  57.662  61.068  72.030  76.600\n",
              "H     23.0  57.036957  10.990928  40.83  ...  60.078  65.000  69.946  79.676\n",
              "W     68.0  69.017647  12.039179  44.58  ...  68.015  71.642  78.451  92.808\n",
              "\n",
              "[3 rows x 24 columns]"
            ]
          },
          "metadata": {
            "tags": []
          },
          "execution_count": 76
        }
      ]
    },
    {
      "cell_type": "code",
      "metadata": {
        "id": "26IU1JAXakqi",
        "colab_type": "code",
        "outputId": "02d3183a-63e2-4c21-e252-fea7ba73637a",
        "colab": {
          "base_uri": "https://localhost:8080/",
          "height": 298
        }
      },
      "source": [
        "dataset.describe()"
      ],
      "execution_count": 77,
      "outputs": [
        {
          "output_type": "execute_result",
          "data": {
            "text/html": [
              "<div>\n",
              "<style scoped>\n",
              "    .dataframe tbody tr th:only-of-type {\n",
              "        vertical-align: middle;\n",
              "    }\n",
              "\n",
              "    .dataframe tbody tr th {\n",
              "        vertical-align: top;\n",
              "    }\n",
              "\n",
              "    .dataframe thead th {\n",
              "        text-align: right;\n",
              "    }\n",
              "</style>\n",
              "<table border=\"1\" class=\"dataframe\">\n",
              "  <thead>\n",
              "    <tr style=\"text-align: right;\">\n",
              "      <th></th>\n",
              "      <th>Oral</th>\n",
              "      <th>Written</th>\n",
              "      <th>Combine</th>\n",
              "    </tr>\n",
              "  </thead>\n",
              "  <tbody>\n",
              "    <tr>\n",
              "      <th>count</th>\n",
              "      <td>118.000000</td>\n",
              "      <td>118.000000</td>\n",
              "      <td>118.000000</td>\n",
              "    </tr>\n",
              "    <tr>\n",
              "      <th>mean</th>\n",
              "      <td>65.523390</td>\n",
              "      <td>71.652542</td>\n",
              "      <td>69.200881</td>\n",
              "    </tr>\n",
              "    <tr>\n",
              "      <th>std</th>\n",
              "      <td>12.421927</td>\n",
              "      <td>10.622808</td>\n",
              "      <td>9.387575</td>\n",
              "    </tr>\n",
              "    <tr>\n",
              "      <th>min</th>\n",
              "      <td>40.830000</td>\n",
              "      <td>46.000000</td>\n",
              "      <td>45.932000</td>\n",
              "    </tr>\n",
              "    <tr>\n",
              "      <th>25%</th>\n",
              "      <td>55.387500</td>\n",
              "      <td>65.000000</td>\n",
              "      <td>60.942000</td>\n",
              "    </tr>\n",
              "    <tr>\n",
              "      <th>50%</th>\n",
              "      <td>66.040000</td>\n",
              "      <td>71.500000</td>\n",
              "      <td>69.502000</td>\n",
              "    </tr>\n",
              "    <tr>\n",
              "      <th>75%</th>\n",
              "      <td>73.810000</td>\n",
              "      <td>78.500000</td>\n",
              "      <td>75.832000</td>\n",
              "    </tr>\n",
              "    <tr>\n",
              "      <th>max</th>\n",
              "      <td>92.080000</td>\n",
              "      <td>95.000000</td>\n",
              "      <td>92.808000</td>\n",
              "    </tr>\n",
              "  </tbody>\n",
              "</table>\n",
              "</div>"
            ],
            "text/plain": [
              "             Oral     Written     Combine\n",
              "count  118.000000  118.000000  118.000000\n",
              "mean    65.523390   71.652542   69.200881\n",
              "std     12.421927   10.622808    9.387575\n",
              "min     40.830000   46.000000   45.932000\n",
              "25%     55.387500   65.000000   60.942000\n",
              "50%     66.040000   71.500000   69.502000\n",
              "75%     73.810000   78.500000   75.832000\n",
              "max     92.080000   95.000000   92.808000"
            ]
          },
          "metadata": {
            "tags": []
          },
          "execution_count": 77
        }
      ]
    },
    {
      "cell_type": "code",
      "metadata": {
        "id": "Soj9Nkn4qt_D",
        "colab_type": "code",
        "outputId": "ced23e94-12e9-4cc6-93fc-048d03c984fe",
        "colab": {
          "base_uri": "https://localhost:8080/",
          "height": 420
        }
      },
      "source": [
        "dataset.query('Position == Position.max()')"
      ],
      "execution_count": 78,
      "outputs": [
        {
          "output_type": "execute_result",
          "data": {
            "text/html": [
              "<div>\n",
              "<style scoped>\n",
              "    .dataframe tbody tr th:only-of-type {\n",
              "        vertical-align: middle;\n",
              "    }\n",
              "\n",
              "    .dataframe tbody tr th {\n",
              "        vertical-align: top;\n",
              "    }\n",
              "\n",
              "    .dataframe thead th {\n",
              "        text-align: right;\n",
              "    }\n",
              "</style>\n",
              "<table border=\"1\" class=\"dataframe\">\n",
              "  <thead>\n",
              "    <tr style=\"text-align: right;\">\n",
              "      <th></th>\n",
              "      <th>Race</th>\n",
              "      <th>Position</th>\n",
              "      <th>Oral</th>\n",
              "      <th>Written</th>\n",
              "      <th>Combine</th>\n",
              "    </tr>\n",
              "  </thead>\n",
              "  <tbody>\n",
              "    <tr>\n",
              "      <th>41</th>\n",
              "      <td>W</td>\n",
              "      <td>Lieutenant</td>\n",
              "      <td>88.75</td>\n",
              "      <td>91</td>\n",
              "      <td>90.100</td>\n",
              "    </tr>\n",
              "    <tr>\n",
              "      <th>42</th>\n",
              "      <td>W</td>\n",
              "      <td>Lieutenant</td>\n",
              "      <td>87.50</td>\n",
              "      <td>87</td>\n",
              "      <td>87.200</td>\n",
              "    </tr>\n",
              "    <tr>\n",
              "      <th>43</th>\n",
              "      <td>W</td>\n",
              "      <td>Lieutenant</td>\n",
              "      <td>77.50</td>\n",
              "      <td>91</td>\n",
              "      <td>85.600</td>\n",
              "    </tr>\n",
              "    <tr>\n",
              "      <th>44</th>\n",
              "      <td>W</td>\n",
              "      <td>Lieutenant</td>\n",
              "      <td>85.00</td>\n",
              "      <td>84</td>\n",
              "      <td>84.400</td>\n",
              "    </tr>\n",
              "    <tr>\n",
              "      <th>45</th>\n",
              "      <td>W</td>\n",
              "      <td>Lieutenant</td>\n",
              "      <td>80.00</td>\n",
              "      <td>87</td>\n",
              "      <td>84.200</td>\n",
              "    </tr>\n",
              "    <tr>\n",
              "      <th>...</th>\n",
              "      <td>...</td>\n",
              "      <td>...</td>\n",
              "      <td>...</td>\n",
              "      <td>...</td>\n",
              "      <td>...</td>\n",
              "    </tr>\n",
              "    <tr>\n",
              "      <th>113</th>\n",
              "      <td>H</td>\n",
              "      <td>Lieutenant</td>\n",
              "      <td>40.83</td>\n",
              "      <td>64</td>\n",
              "      <td>54.732</td>\n",
              "    </tr>\n",
              "    <tr>\n",
              "      <th>114</th>\n",
              "      <td>B</td>\n",
              "      <td>Lieutenant</td>\n",
              "      <td>52.08</td>\n",
              "      <td>56</td>\n",
              "      <td>54.432</td>\n",
              "    </tr>\n",
              "    <tr>\n",
              "      <th>115</th>\n",
              "      <td>H</td>\n",
              "      <td>Lieutenant</td>\n",
              "      <td>48.33</td>\n",
              "      <td>58</td>\n",
              "      <td>54.132</td>\n",
              "    </tr>\n",
              "    <tr>\n",
              "      <th>116</th>\n",
              "      <td>B</td>\n",
              "      <td>Lieutenant</td>\n",
              "      <td>52.92</td>\n",
              "      <td>49</td>\n",
              "      <td>50.568</td>\n",
              "    </tr>\n",
              "    <tr>\n",
              "      <th>117</th>\n",
              "      <td>B</td>\n",
              "      <td>Lieutenant</td>\n",
              "      <td>45.83</td>\n",
              "      <td>46</td>\n",
              "      <td>45.932</td>\n",
              "    </tr>\n",
              "  </tbody>\n",
              "</table>\n",
              "<p>77 rows × 5 columns</p>\n",
              "</div>"
            ],
            "text/plain": [
              "    Race    Position   Oral  Written  Combine\n",
              "41     W  Lieutenant  88.75       91   90.100\n",
              "42     W  Lieutenant  87.50       87   87.200\n",
              "43     W  Lieutenant  77.50       91   85.600\n",
              "44     W  Lieutenant  85.00       84   84.400\n",
              "45     W  Lieutenant  80.00       87   84.200\n",
              "..   ...         ...    ...      ...      ...\n",
              "113    H  Lieutenant  40.83       64   54.732\n",
              "114    B  Lieutenant  52.08       56   54.432\n",
              "115    H  Lieutenant  48.33       58   54.132\n",
              "116    B  Lieutenant  52.92       49   50.568\n",
              "117    B  Lieutenant  45.83       46   45.932\n",
              "\n",
              "[77 rows x 5 columns]"
            ]
          },
          "metadata": {
            "tags": []
          },
          "execution_count": 78
        }
      ]
    },
    {
      "cell_type": "code",
      "metadata": {
        "id": "ZrwqTD06s-ee",
        "colab_type": "code",
        "outputId": "8762259c-4228-4128-b6e7-84c66f619017",
        "colab": {
          "base_uri": "https://localhost:8080/",
          "height": 266
        }
      },
      "source": [
        "dataset.groupby(['Position', 'Race']).describe()['Oral']"
      ],
      "execution_count": 79,
      "outputs": [
        {
          "output_type": "execute_result",
          "data": {
            "text/html": [
              "<div>\n",
              "<style scoped>\n",
              "    .dataframe tbody tr th:only-of-type {\n",
              "        vertical-align: middle;\n",
              "    }\n",
              "\n",
              "    .dataframe tbody tr th {\n",
              "        vertical-align: top;\n",
              "    }\n",
              "\n",
              "    .dataframe thead th {\n",
              "        text-align: right;\n",
              "    }\n",
              "</style>\n",
              "<table border=\"1\" class=\"dataframe\">\n",
              "  <thead>\n",
              "    <tr style=\"text-align: right;\">\n",
              "      <th></th>\n",
              "      <th></th>\n",
              "      <th>count</th>\n",
              "      <th>mean</th>\n",
              "      <th>std</th>\n",
              "      <th>min</th>\n",
              "      <th>25%</th>\n",
              "      <th>50%</th>\n",
              "      <th>75%</th>\n",
              "      <th>max</th>\n",
              "    </tr>\n",
              "    <tr>\n",
              "      <th>Position</th>\n",
              "      <th>Race</th>\n",
              "      <th></th>\n",
              "      <th></th>\n",
              "      <th></th>\n",
              "      <th></th>\n",
              "      <th></th>\n",
              "      <th></th>\n",
              "      <th></th>\n",
              "      <th></th>\n",
              "    </tr>\n",
              "  </thead>\n",
              "  <tbody>\n",
              "    <tr>\n",
              "      <th rowspan=\"3\" valign=\"top\">Captain</th>\n",
              "      <th>B</th>\n",
              "      <td>8.0</td>\n",
              "      <td>65.892500</td>\n",
              "      <td>9.782318</td>\n",
              "      <td>52.38</td>\n",
              "      <td>58.6900</td>\n",
              "      <td>68.095</td>\n",
              "      <td>70.5975</td>\n",
              "      <td>82.38</td>\n",
              "    </tr>\n",
              "    <tr>\n",
              "      <th>H</th>\n",
              "      <td>8.0</td>\n",
              "      <td>63.928750</td>\n",
              "      <td>11.690974</td>\n",
              "      <td>42.86</td>\n",
              "      <td>58.2125</td>\n",
              "      <td>63.810</td>\n",
              "      <td>71.5475</td>\n",
              "      <td>79.05</td>\n",
              "    </tr>\n",
              "    <tr>\n",
              "      <th>W</th>\n",
              "      <td>25.0</td>\n",
              "      <td>72.362000</td>\n",
              "      <td>11.737808</td>\n",
              "      <td>48.57</td>\n",
              "      <td>62.3800</td>\n",
              "      <td>73.810</td>\n",
              "      <td>80.0000</td>\n",
              "      <td>89.52</td>\n",
              "    </tr>\n",
              "    <tr>\n",
              "      <th rowspan=\"3\" valign=\"top\">Lieutenant</th>\n",
              "      <th>B</th>\n",
              "      <td>19.0</td>\n",
              "      <td>63.135263</td>\n",
              "      <td>11.592291</td>\n",
              "      <td>45.83</td>\n",
              "      <td>55.4150</td>\n",
              "      <td>60.830</td>\n",
              "      <td>70.0000</td>\n",
              "      <td>92.08</td>\n",
              "    </tr>\n",
              "    <tr>\n",
              "      <th>H</th>\n",
              "      <td>15.0</td>\n",
              "      <td>53.361333</td>\n",
              "      <td>8.937207</td>\n",
              "      <td>40.83</td>\n",
              "      <td>47.2900</td>\n",
              "      <td>51.670</td>\n",
              "      <td>56.8750</td>\n",
              "      <td>70.83</td>\n",
              "    </tr>\n",
              "    <tr>\n",
              "      <th>W</th>\n",
              "      <td>43.0</td>\n",
              "      <td>67.073256</td>\n",
              "      <td>11.914666</td>\n",
              "      <td>44.58</td>\n",
              "      <td>58.1250</td>\n",
              "      <td>68.330</td>\n",
              "      <td>73.9600</td>\n",
              "      <td>88.75</td>\n",
              "    </tr>\n",
              "  </tbody>\n",
              "</table>\n",
              "</div>"
            ],
            "text/plain": [
              "                 count       mean        std  ...     50%      75%    max\n",
              "Position   Race                               ...                        \n",
              "Captain    B       8.0  65.892500   9.782318  ...  68.095  70.5975  82.38\n",
              "           H       8.0  63.928750  11.690974  ...  63.810  71.5475  79.05\n",
              "           W      25.0  72.362000  11.737808  ...  73.810  80.0000  89.52\n",
              "Lieutenant B      19.0  63.135263  11.592291  ...  60.830  70.0000  92.08\n",
              "           H      15.0  53.361333   8.937207  ...  51.670  56.8750  70.83\n",
              "           W      43.0  67.073256  11.914666  ...  68.330  73.9600  88.75\n",
              "\n",
              "[6 rows x 8 columns]"
            ]
          },
          "metadata": {
            "tags": []
          },
          "execution_count": 79
        }
      ]
    },
    {
      "cell_type": "code",
      "metadata": {
        "id": "aubHiv6FueOX",
        "colab_type": "code",
        "outputId": "c9901f4a-1392-4d12-c27b-146171d768fe",
        "colab": {
          "base_uri": "https://localhost:8080/",
          "height": 266
        }
      },
      "source": [
        "dataset.groupby(['Position', 'Race'])['Written'].describe()"
      ],
      "execution_count": 80,
      "outputs": [
        {
          "output_type": "execute_result",
          "data": {
            "text/html": [
              "<div>\n",
              "<style scoped>\n",
              "    .dataframe tbody tr th:only-of-type {\n",
              "        vertical-align: middle;\n",
              "    }\n",
              "\n",
              "    .dataframe tbody tr th {\n",
              "        vertical-align: top;\n",
              "    }\n",
              "\n",
              "    .dataframe thead th {\n",
              "        text-align: right;\n",
              "    }\n",
              "</style>\n",
              "<table border=\"1\" class=\"dataframe\">\n",
              "  <thead>\n",
              "    <tr style=\"text-align: right;\">\n",
              "      <th></th>\n",
              "      <th></th>\n",
              "      <th>count</th>\n",
              "      <th>mean</th>\n",
              "      <th>std</th>\n",
              "      <th>min</th>\n",
              "      <th>25%</th>\n",
              "      <th>50%</th>\n",
              "      <th>75%</th>\n",
              "      <th>max</th>\n",
              "    </tr>\n",
              "    <tr>\n",
              "      <th>Position</th>\n",
              "      <th>Race</th>\n",
              "      <th></th>\n",
              "      <th></th>\n",
              "      <th></th>\n",
              "      <th></th>\n",
              "      <th></th>\n",
              "      <th></th>\n",
              "      <th></th>\n",
              "      <th></th>\n",
              "    </tr>\n",
              "  </thead>\n",
              "  <tbody>\n",
              "    <tr>\n",
              "      <th rowspan=\"3\" valign=\"top\">Captain</th>\n",
              "      <th>B</th>\n",
              "      <td>8.0</td>\n",
              "      <td>62.375000</td>\n",
              "      <td>11.500776</td>\n",
              "      <td>49.0</td>\n",
              "      <td>52.25</td>\n",
              "      <td>63.0</td>\n",
              "      <td>71.00</td>\n",
              "      <td>77.0</td>\n",
              "    </tr>\n",
              "    <tr>\n",
              "      <th>H</th>\n",
              "      <td>8.0</td>\n",
              "      <td>71.625000</td>\n",
              "      <td>8.450486</td>\n",
              "      <td>61.0</td>\n",
              "      <td>65.00</td>\n",
              "      <td>70.5</td>\n",
              "      <td>76.75</td>\n",
              "      <td>84.0</td>\n",
              "    </tr>\n",
              "    <tr>\n",
              "      <th>W</th>\n",
              "      <td>25.0</td>\n",
              "      <td>75.280000</td>\n",
              "      <td>8.928046</td>\n",
              "      <td>58.0</td>\n",
              "      <td>69.00</td>\n",
              "      <td>75.0</td>\n",
              "      <td>81.00</td>\n",
              "      <td>95.0</td>\n",
              "    </tr>\n",
              "    <tr>\n",
              "      <th rowspan=\"3\" valign=\"top\">Lieutenant</th>\n",
              "      <th>B</th>\n",
              "      <td>19.0</td>\n",
              "      <td>64.105263</td>\n",
              "      <td>10.213796</td>\n",
              "      <td>46.0</td>\n",
              "      <td>58.00</td>\n",
              "      <td>64.0</td>\n",
              "      <td>69.50</td>\n",
              "      <td>86.0</td>\n",
              "    </tr>\n",
              "    <tr>\n",
              "      <th>H</th>\n",
              "      <td>15.0</td>\n",
              "      <td>70.466667</td>\n",
              "      <td>6.128000</td>\n",
              "      <td>58.0</td>\n",
              "      <td>67.50</td>\n",
              "      <td>71.0</td>\n",
              "      <td>72.50</td>\n",
              "      <td>82.0</td>\n",
              "    </tr>\n",
              "    <tr>\n",
              "      <th>W</th>\n",
              "      <td>43.0</td>\n",
              "      <td>75.023256</td>\n",
              "      <td>10.747067</td>\n",
              "      <td>57.0</td>\n",
              "      <td>66.00</td>\n",
              "      <td>74.0</td>\n",
              "      <td>84.00</td>\n",
              "      <td>95.0</td>\n",
              "    </tr>\n",
              "  </tbody>\n",
              "</table>\n",
              "</div>"
            ],
            "text/plain": [
              "                 count       mean        std   min    25%   50%    75%   max\n",
              "Position   Race                                                             \n",
              "Captain    B       8.0  62.375000  11.500776  49.0  52.25  63.0  71.00  77.0\n",
              "           H       8.0  71.625000   8.450486  61.0  65.00  70.5  76.75  84.0\n",
              "           W      25.0  75.280000   8.928046  58.0  69.00  75.0  81.00  95.0\n",
              "Lieutenant B      19.0  64.105263  10.213796  46.0  58.00  64.0  69.50  86.0\n",
              "           H      15.0  70.466667   6.128000  58.0  67.50  71.0  72.50  82.0\n",
              "           W      43.0  75.023256  10.747067  57.0  66.00  74.0  84.00  95.0"
            ]
          },
          "metadata": {
            "tags": []
          },
          "execution_count": 80
        }
      ]
    },
    {
      "cell_type": "code",
      "metadata": {
        "id": "Sc38FJPt4zPw",
        "colab_type": "code",
        "outputId": "d5180d8f-f076-49ff-e9fd-de6756ed7d91",
        "colab": {
          "base_uri": "https://localhost:8080/",
          "height": 266
        }
      },
      "source": [
        "dataset.groupby(['Position', 'Race'])['Combine'].describe()"
      ],
      "execution_count": 81,
      "outputs": [
        {
          "output_type": "execute_result",
          "data": {
            "text/html": [
              "<div>\n",
              "<style scoped>\n",
              "    .dataframe tbody tr th:only-of-type {\n",
              "        vertical-align: middle;\n",
              "    }\n",
              "\n",
              "    .dataframe tbody tr th {\n",
              "        vertical-align: top;\n",
              "    }\n",
              "\n",
              "    .dataframe thead th {\n",
              "        text-align: right;\n",
              "    }\n",
              "</style>\n",
              "<table border=\"1\" class=\"dataframe\">\n",
              "  <thead>\n",
              "    <tr style=\"text-align: right;\">\n",
              "      <th></th>\n",
              "      <th></th>\n",
              "      <th>count</th>\n",
              "      <th>mean</th>\n",
              "      <th>std</th>\n",
              "      <th>min</th>\n",
              "      <th>25%</th>\n",
              "      <th>50%</th>\n",
              "      <th>75%</th>\n",
              "      <th>max</th>\n",
              "    </tr>\n",
              "    <tr>\n",
              "      <th>Position</th>\n",
              "      <th>Race</th>\n",
              "      <th></th>\n",
              "      <th></th>\n",
              "      <th></th>\n",
              "      <th></th>\n",
              "      <th></th>\n",
              "      <th></th>\n",
              "      <th></th>\n",
              "      <th></th>\n",
              "    </tr>\n",
              "  </thead>\n",
              "  <tbody>\n",
              "    <tr>\n",
              "      <th rowspan=\"3\" valign=\"top\">Captain</th>\n",
              "      <th>B</th>\n",
              "      <td>8.0</td>\n",
              "      <td>63.782000</td>\n",
              "      <td>8.492689</td>\n",
              "      <td>51.304</td>\n",
              "      <td>57.594</td>\n",
              "      <td>63.900</td>\n",
              "      <td>70.742</td>\n",
              "      <td>74.952</td>\n",
              "    </tr>\n",
              "    <tr>\n",
              "      <th>H</th>\n",
              "      <td>8.0</td>\n",
              "      <td>68.546500</td>\n",
              "      <td>8.701684</td>\n",
              "      <td>57.344</td>\n",
              "      <td>61.685</td>\n",
              "      <td>67.524</td>\n",
              "      <td>76.615</td>\n",
              "      <td>79.676</td>\n",
              "    </tr>\n",
              "    <tr>\n",
              "      <th>W</th>\n",
              "      <td>25.0</td>\n",
              "      <td>74.112800</td>\n",
              "      <td>8.251842</td>\n",
              "      <td>56.324</td>\n",
              "      <td>69.372</td>\n",
              "      <td>73.732</td>\n",
              "      <td>78.124</td>\n",
              "      <td>92.808</td>\n",
              "    </tr>\n",
              "    <tr>\n",
              "      <th rowspan=\"3\" valign=\"top\">Lieutenant</th>\n",
              "      <th>B</th>\n",
              "      <td>19.0</td>\n",
              "      <td>63.717263</td>\n",
              "      <td>9.076899</td>\n",
              "      <td>45.932</td>\n",
              "      <td>58.132</td>\n",
              "      <td>61.068</td>\n",
              "      <td>72.482</td>\n",
              "      <td>76.600</td>\n",
              "    </tr>\n",
              "    <tr>\n",
              "      <th>H</th>\n",
              "      <td>15.0</td>\n",
              "      <td>63.624533</td>\n",
              "      <td>5.768875</td>\n",
              "      <td>54.132</td>\n",
              "      <td>60.000</td>\n",
              "      <td>63.268</td>\n",
              "      <td>68.666</td>\n",
              "      <td>71.200</td>\n",
              "    </tr>\n",
              "    <tr>\n",
              "      <th>W</th>\n",
              "      <td>43.0</td>\n",
              "      <td>71.843256</td>\n",
              "      <td>9.145921</td>\n",
              "      <td>56.632</td>\n",
              "      <td>66.434</td>\n",
              "      <td>70.732</td>\n",
              "      <td>78.766</td>\n",
              "      <td>90.100</td>\n",
              "    </tr>\n",
              "  </tbody>\n",
              "</table>\n",
              "</div>"
            ],
            "text/plain": [
              "                 count       mean       std  ...     50%     75%     max\n",
              "Position   Race                              ...                        \n",
              "Captain    B       8.0  63.782000  8.492689  ...  63.900  70.742  74.952\n",
              "           H       8.0  68.546500  8.701684  ...  67.524  76.615  79.676\n",
              "           W      25.0  74.112800  8.251842  ...  73.732  78.124  92.808\n",
              "Lieutenant B      19.0  63.717263  9.076899  ...  61.068  72.482  76.600\n",
              "           H      15.0  63.624533  5.768875  ...  63.268  68.666  71.200\n",
              "           W      43.0  71.843256  9.145921  ...  70.732  78.766  90.100\n",
              "\n",
              "[6 rows x 8 columns]"
            ]
          },
          "metadata": {
            "tags": []
          },
          "execution_count": 81
        }
      ]
    },
    {
      "cell_type": "code",
      "metadata": {
        "id": "Cem8wIL6pHqA",
        "colab_type": "code",
        "outputId": "e010a630-f6fa-41c3-e8c3-cba2906fed96",
        "colab": {
          "base_uri": "https://localhost:8080/",
          "height": 53
        }
      },
      "source": [
        "labels = (dataset.columns.values)\n",
        "print(labels)\n",
        "labels = np.reshape(labels, (np.asarray(labels).shape[0],1)).ravel()\n",
        "print(labels.shape)\n",
        "np_dataset = dataset.to_numpy()\n",
        "#print(np_dataset)"
      ],
      "execution_count": 82,
      "outputs": [
        {
          "output_type": "stream",
          "text": [
            "['Race' 'Position' 'Oral' 'Written' 'Combine']\n",
            "(5,)\n"
          ],
          "name": "stdout"
        }
      ]
    },
    {
      "cell_type": "markdown",
      "metadata": {
        "id": "nf4rhmN1h8IV",
        "colab_type": "text"
      },
      "source": [
        "**Data Preprocessing**\n",
        "\n",
        "As we loaded the data from a CSV file, we need to do few things:\n",
        "- **Modify Data** : remove features that should not be used for classification (protected attributes). Look for Nan values.\n",
        "- Group Processing : We put the privileged-group values to 1 (race : W). All the other values of the attribute Race are set to 0 (race : H, B)\n",
        "- Value Scaling : We scale the value of the notes between [0,1]"
      ]
    },
    {
      "cell_type": "code",
      "metadata": {
        "id": "9-6v92An2QDT",
        "colab_type": "code",
        "outputId": "cf420463-98f2-464e-da88-a512cdfcb0ed",
        "colab": {
          "base_uri": "https://localhost:8080/",
          "height": 204
        }
      },
      "source": [
        "proc_dataset= dataset.replace(['W','B','H','Captain','Lieutenant'],[1,0,0,1,0])\n",
        "proc_dataset['Oral']= (proc_dataset['Oral']-min(proc_dataset['Oral']))/(max(proc_dataset['Oral'])-min(proc_dataset['Oral']))\n",
        "proc_dataset['Written']= (proc_dataset['Written']-min(proc_dataset['Written']))/(max(proc_dataset['Written'])-min(proc_dataset['Written']))\n",
        "proc_dataset['Combine']= (proc_dataset['Combine']-min(proc_dataset['Combine']))/(max(proc_dataset['Combine'])-min(proc_dataset['Combine']))\n",
        "proc_dataset.head()"
      ],
      "execution_count": 83,
      "outputs": [
        {
          "output_type": "execute_result",
          "data": {
            "text/html": [
              "<div>\n",
              "<style scoped>\n",
              "    .dataframe tbody tr th:only-of-type {\n",
              "        vertical-align: middle;\n",
              "    }\n",
              "\n",
              "    .dataframe tbody tr th {\n",
              "        vertical-align: top;\n",
              "    }\n",
              "\n",
              "    .dataframe thead th {\n",
              "        text-align: right;\n",
              "    }\n",
              "</style>\n",
              "<table border=\"1\" class=\"dataframe\">\n",
              "  <thead>\n",
              "    <tr style=\"text-align: right;\">\n",
              "      <th></th>\n",
              "      <th>Race</th>\n",
              "      <th>Position</th>\n",
              "      <th>Oral</th>\n",
              "      <th>Written</th>\n",
              "      <th>Combine</th>\n",
              "    </tr>\n",
              "  </thead>\n",
              "  <tbody>\n",
              "    <tr>\n",
              "      <th>0</th>\n",
              "      <td>1</td>\n",
              "      <td>1</td>\n",
              "      <td>0.950049</td>\n",
              "      <td>1.000000</td>\n",
              "      <td>1.000000</td>\n",
              "    </tr>\n",
              "    <tr>\n",
              "      <th>1</th>\n",
              "      <td>1</td>\n",
              "      <td>1</td>\n",
              "      <td>0.764293</td>\n",
              "      <td>1.000000</td>\n",
              "      <td>0.918764</td>\n",
              "    </tr>\n",
              "    <tr>\n",
              "      <th>2</th>\n",
              "      <td>1</td>\n",
              "      <td>1</td>\n",
              "      <td>0.810732</td>\n",
              "      <td>0.836735</td>\n",
              "      <td>0.836675</td>\n",
              "    </tr>\n",
              "    <tr>\n",
              "      <th>3</th>\n",
              "      <td>1</td>\n",
              "      <td>1</td>\n",
              "      <td>0.931512</td>\n",
              "      <td>0.612245</td>\n",
              "      <td>0.748699</td>\n",
              "    </tr>\n",
              "    <tr>\n",
              "      <th>4</th>\n",
              "      <td>1</td>\n",
              "      <td>1</td>\n",
              "      <td>0.689951</td>\n",
              "      <td>0.775510</td>\n",
              "      <td>0.745456</td>\n",
              "    </tr>\n",
              "  </tbody>\n",
              "</table>\n",
              "</div>"
            ],
            "text/plain": [
              "   Race  Position      Oral   Written   Combine\n",
              "0     1         1  0.950049  1.000000  1.000000\n",
              "1     1         1  0.764293  1.000000  0.918764\n",
              "2     1         1  0.810732  0.836735  0.836675\n",
              "3     1         1  0.931512  0.612245  0.748699\n",
              "4     1         1  0.689951  0.775510  0.745456"
            ]
          },
          "metadata": {
            "tags": []
          },
          "execution_count": 83
        }
      ]
    },
    {
      "cell_type": "code",
      "metadata": {
        "id": "HUqy3oKzgPh_",
        "colab_type": "code",
        "colab": {}
      },
      "source": [
        "sensitive_attribute = 'Race'\n",
        "privileged_group = [{'Race':1}]\n",
        "unprivileged_group = [{'Race':0}]\n",
        "\n",
        "np_proc_dataset = proc_dataset.to_numpy()\n"
      ],
      "execution_count": 0,
      "outputs": []
    },
    {
      "cell_type": "markdown",
      "metadata": {
        "id": "Fob5QDbLzmA7",
        "colab_type": "text"
      },
      "source": [
        "Here, I retrieve the labels froms the Ricci dataset, and set the protected attribute to **Race**"
      ]
    },
    {
      "cell_type": "code",
      "metadata": {
        "id": "KFeVKmEfCSmm",
        "colab_type": "code",
        "outputId": "9dda8df7-31bb-454e-d372-5872aa6f9959",
        "colab": {
          "base_uri": "https://localhost:8080/",
          "height": 35
        }
      },
      "source": [
        "protected_attribute= ['Race']\n",
        "print(labels.tolist())\n",
        "\n",
        "#print((train.to_numpy()))\n"
      ],
      "execution_count": 85,
      "outputs": [
        {
          "output_type": "stream",
          "text": [
            "['Race', 'Position', 'Oral', 'Written', 'Combine']\n"
          ],
          "name": "stdout"
        }
      ]
    },
    {
      "cell_type": "markdown",
      "metadata": {
        "id": "-QHZ0vsEzX4d",
        "colab_type": "text"
      },
      "source": [
        "**Creation of trainsets, testset, validationset**\n",
        "\n",
        "We use train_test_split to separate the values to three datasets"
      ]
    },
    {
      "cell_type": "code",
      "metadata": {
        "id": "BBG_6tZc1aA4",
        "colab_type": "code",
        "colab": {}
      },
      "source": [
        "#df = aif360.datasets.StructuredDataset(proc_dataset,label_names=labels.tolist(), protected_attribute_names=protected_attribute)\n",
        "\n",
        "dataset_orig_train, dataset_orig_vt = train_test_split(proc_dataset, test_size=0.3)\n",
        "dataset_orig_valid, dataset_orig_test = train_test_split(proc_dataset, test_size=0.5)\n",
        "\n"
      ],
      "execution_count": 0,
      "outputs": []
    },
    {
      "cell_type": "code",
      "metadata": {
        "id": "pwvFMn_SHht6",
        "colab_type": "code",
        "outputId": "83840f07-142a-40ca-d6be-794eab4d7699",
        "colab": {
          "base_uri": "https://localhost:8080/",
          "height": 53
        }
      },
      "source": [
        "print(protected_attribute)\n",
        "print(type(dataset_orig_train[['Combine']]))"
      ],
      "execution_count": 87,
      "outputs": [
        {
          "output_type": "stream",
          "text": [
            "['Race']\n",
            "<class 'pandas.core.frame.DataFrame'>\n"
          ],
          "name": "stdout"
        }
      ]
    },
    {
      "cell_type": "markdown",
      "metadata": {
        "id": "dldmeyGwyun1",
        "colab_type": "text"
      },
      "source": [
        "#Metric for the original data"
      ]
    },
    {
      "cell_type": "markdown",
      "metadata": {
        "id": "-QeMzSJb1KNp",
        "colab_type": "text"
      },
      "source": [
        "As the values for the protected attribute Race are binary, we create a BinaryLabelDataset using AIF360. Hence, the protected_attribute is Race. "
      ]
    },
    {
      "cell_type": "markdown",
      "metadata": {
        "id": "xRYFEU1hWVBK",
        "colab_type": "text"
      },
      "source": [
        "# Train set"
      ]
    },
    {
      "cell_type": "code",
      "metadata": {
        "id": "1DXEku_DxCs4",
        "colab_type": "code",
        "colab": {}
      },
      "source": [
        "dataset_orig_train_bin = aif360.datasets.BinaryLabelDataset(favorable_label=1, \n",
        "                                 unfavorable_label=0,\n",
        "                                 df = dataset_orig_train, \n",
        "                                 label_names= ['Position'], \n",
        "                                 protected_attribute_names=protected_attribute)\n",
        "\n",
        "dataset_orig_test_bin = aif360.datasets.BinaryLabelDataset(favorable_label=1, \n",
        "                                 unfavorable_label=0,\n",
        "                                 df = dataset_orig_test, \n",
        "                                 label_names= ['Position'], \n",
        "                                 protected_attribute_names=protected_attribute\n",
        "                                 )\n",
        "dataset_orig_valid_bin = aif360.datasets.BinaryLabelDataset(favorable_label=1, \n",
        "                                 unfavorable_label=0,\n",
        "                                 df = dataset_orig_valid, \n",
        "                                 label_names= ['Position'], \n",
        "                                 protected_attribute_names=protected_attribute)"
      ],
      "execution_count": 0,
      "outputs": []
    },
    {
      "cell_type": "markdown",
      "metadata": {
        "id": "2j1Tw72U1ciC",
        "colab_type": "text"
      },
      "source": [
        "We can define our metric with a BinaryLabelDatasetMetric ;"
      ]
    },
    {
      "cell_type": "code",
      "metadata": {
        "id": "5Vrxv1NTump9",
        "colab_type": "code",
        "outputId": "ece5e4ce-52f8-4e27-90e4-77c67bbed6f0",
        "colab": {
          "base_uri": "https://localhost:8080/",
          "height": 53
        }
      },
      "source": [
        "metric_orig_train = aif360.metrics.BinaryLabelDatasetMetric(dataset_orig_train_bin, \n",
        "                                         unprivileged_groups=unprivileged_group,\n",
        "                                         privileged_groups=privileged_group)\n",
        "display(Markdown(\"#### Original test dataset\"))\n",
        "print(\"Difference in mean outcomes between unprivileged and privileged groups = %f\" % metric_orig_train.mean_difference())\n"
      ],
      "execution_count": 89,
      "outputs": [
        {
          "output_type": "display_data",
          "data": {
            "text/markdown": "#### Original test dataset",
            "text/plain": [
              "<IPython.core.display.Markdown object>"
            ]
          },
          "metadata": {
            "tags": []
          }
        },
        {
          "output_type": "stream",
          "text": [
            "Difference in mean outcomes between unprivileged and privileged groups = -0.030637\n"
          ],
          "name": "stdout"
        }
      ]
    },
    {
      "cell_type": "markdown",
      "metadata": {
        "id": "hphyurkPPNJt",
        "colab_type": "text"
      },
      "source": [
        "Here we can understand that 6% of the privileged group (white race) is getting more positives outcomes in the training dataset. this is unwanted. So we are going to do some mitigation of this bias by reweighing the dataset. \n",
        "**Reweighing** transforms the dataset to have more equity between the privileged and unpivileged groups"
      ]
    },
    {
      "cell_type": "code",
      "metadata": {
        "id": "xK4EixZwf2lR",
        "colab_type": "code",
        "colab": {}
      },
      "source": [
        "#!pip install BlackBoxAuditing\n",
        "#from aif360.algorithms.preprocessing import DisparateImpactRemover\n",
        "#import BlackBoxAuditing\n",
        "#reweigh = DisparateImpactRemover(1.0,sensitive_attribute='Race')\n",
        "#dataset_transf_train = reweigh.fit_transform(dataset_orig_test_bin)\n",
        "#dataset_transf_train = dataset_orig_train_bin.align_datasets(dataset_transf_train)"
      ],
      "execution_count": 0,
      "outputs": []
    },
    {
      "cell_type": "code",
      "metadata": {
        "id": "sgd7SK0n2wSS",
        "colab_type": "code",
        "colab": {}
      },
      "source": [
        "reweigh = Reweighing(unprivileged_groups=unprivileged_group,\n",
        "                     privileged_groups=privileged_group)\n",
        "\n",
        "dataset_transf_train = reweigh.fit_transform(dataset_orig_test_bin)\n",
        "dataset_transf_train = dataset_orig_train_bin.align_datasets(dataset_transf_train)"
      ],
      "execution_count": 0,
      "outputs": []
    },
    {
      "cell_type": "code",
      "metadata": {
        "id": "-eSYLWR53CA3",
        "colab_type": "code",
        "outputId": "1cc54f92-c35a-43ba-d46a-4f04b7ce1841",
        "colab": {
          "base_uri": "https://localhost:8080/",
          "height": 53
        }
      },
      "source": [
        "metric_transf_train = aif360.metrics.BinaryLabelDatasetMetric(dataset_transf_train, \n",
        "                                         unprivileged_groups=unprivileged_group,\n",
        "                                         privileged_groups=privileged_group)\n",
        "display(Markdown(\"#### Transformed training dataset\"))\n",
        "print(\"Difference in mean outcomes between unprivileged and privileged groups = %f\" % metric_transf_train.mean_difference())\n"
      ],
      "execution_count": 92,
      "outputs": [
        {
          "output_type": "display_data",
          "data": {
            "text/markdown": "#### Transformed training dataset",
            "text/plain": [
              "<IPython.core.display.Markdown object>"
            ]
          },
          "metadata": {
            "tags": []
          }
        },
        {
          "output_type": "stream",
          "text": [
            "Difference in mean outcomes between unprivileged and privileged groups = 0.000000\n"
          ],
          "name": "stdout"
        }
      ]
    },
    {
      "cell_type": "markdown",
      "metadata": {
        "id": "dI9iSnIw6p_R",
        "colab_type": "text"
      },
      "source": [
        "We can see that with the reweighing the mean outcome between the prvileged and the unprivileged was reduced to 0. So the dataset has now more equity between the privileged and unprivileged group.\n",
        "\n"
      ]
    },
    {
      "cell_type": "code",
      "metadata": {
        "id": "pcPqgQ4K6iDN",
        "colab_type": "code",
        "colab": {}
      },
      "source": [
        "### Testing \n",
        "assert np.abs(metric_transf_train.mean_difference()) < np.abs(metric_orig_train.mean_difference())"
      ],
      "execution_count": 0,
      "outputs": []
    },
    {
      "cell_type": "markdown",
      "metadata": {
        "id": "YsrxivMe7OH3",
        "colab_type": "text"
      },
      "source": [
        "# Data Loading and test with the original test\n",
        "\n",
        "Now we are going to load test data"
      ]
    },
    {
      "cell_type": "code",
      "metadata": {
        "id": "f5oAV-Vb5zS6",
        "colab_type": "code",
        "outputId": "2c14aa33-1719-42ee-d416-afb6d78d1610",
        "colab": {
          "base_uri": "https://localhost:8080/",
          "height": 53
        }
      },
      "source": [
        "dataset_orig_test = dataset_transf_train.align_datasets(dataset_orig_test_bin)\n",
        "\n",
        "metric_orig_test = aif360.metrics.BinaryLabelDatasetMetric(dataset_orig_test_bin, \n",
        "                                         unprivileged_groups=unprivileged_group,\n",
        "                                         privileged_groups=privileged_group)\n",
        "\n",
        "display(Markdown(\"#### Original test dataset\"))\n",
        "print(\"Difference in mean outcomes between unprivileged and privileged groups = %f\" % metric_orig_test.mean_difference())"
      ],
      "execution_count": 94,
      "outputs": [
        {
          "output_type": "display_data",
          "data": {
            "text/markdown": "#### Original test dataset",
            "text/plain": [
              "<IPython.core.display.Markdown object>"
            ]
          },
          "metadata": {
            "tags": []
          }
        },
        {
          "output_type": "stream",
          "text": [
            "Difference in mean outcomes between unprivileged and privileged groups = -0.031579\n"
          ],
          "name": "stdout"
        }
      ]
    },
    {
      "cell_type": "code",
      "metadata": {
        "id": "zFuRWJZP95sr",
        "colab_type": "code",
        "outputId": "00d3525b-a061-411d-eddd-1a4d5dc0eda0",
        "colab": {
          "base_uri": "https://localhost:8080/",
          "height": 53
        }
      },
      "source": [
        "dataset_transf_test = reweigh.transform(dataset_orig_test_bin)\n",
        "dataset_transf_test= dataset_orig_test_bin.align_datasets(dataset_transf_train)\n",
        "\n",
        "metric_transf_test = aif360.metrics.BinaryLabelDatasetMetric(dataset_transf_test, \n",
        "                                         unprivileged_groups=unprivileged_group,\n",
        "                                         privileged_groups=privileged_group)\n",
        "\n",
        "display(Markdown(\"#### Transformed test dataset\"))\n",
        "print(\"Difference in mean outcomes between unprivileged and privileged groups = %f\" % metric_transf_test.mean_difference())\n"
      ],
      "execution_count": 95,
      "outputs": [
        {
          "output_type": "display_data",
          "data": {
            "text/markdown": "#### Transformed test dataset",
            "text/plain": [
              "<IPython.core.display.Markdown object>"
            ]
          },
          "metadata": {
            "tags": []
          }
        },
        {
          "output_type": "stream",
          "text": [
            "Difference in mean outcomes between unprivileged and privileged groups = 0.000000\n"
          ],
          "name": "stdout"
        }
      ]
    },
    {
      "cell_type": "code",
      "metadata": {
        "id": "ZRA1cVOS-zlH",
        "colab_type": "code",
        "colab": {}
      },
      "source": [
        "### Testing \n",
        "assert np.abs(metric_transf_test.mean_difference()) < np.abs(metric_orig_test.mean_difference())"
      ],
      "execution_count": 0,
      "outputs": []
    },
    {
      "cell_type": "markdown",
      "metadata": {
        "id": "sJ-t-LosCLpo",
        "colab_type": "text"
      },
      "source": [
        "# Let's Train a Classifier on the original data \n",
        "\n"
      ]
    },
    {
      "cell_type": "markdown",
      "metadata": {
        "id": "w4MLhFkq3I0y",
        "colab_type": "text"
      },
      "source": [
        "# Logistic Regression\n"
      ]
    },
    {
      "cell_type": "code",
      "metadata": {
        "id": "FV_RhBwOoUi_",
        "colab_type": "code",
        "colab": {}
      },
      "source": [
        "from sklearn.preprocessing import StandardScaler\n",
        "from sklearn.linear_model import LogisticRegression\n",
        "\n",
        "scale_orig = StandardScaler()\n",
        "X_train = scale_orig.fit_transform(dataset_orig_train_bin.features)\n",
        "y_train = dataset_orig_train_bin.labels.ravel()\n",
        "\n",
        "lmod = LogisticRegression()\n",
        "lmod.fit(X_train, y_train)\n",
        "y_train_pred = lmod.predict(X_train)\n",
        "\n",
        "# positive class index\n",
        "pos_ind = np.where(lmod.classes_ == dataset_orig_train_bin.favorable_label)[0][0]\n",
        "\n",
        "dataset_orig_train_pred = dataset_orig_train_bin.copy()\n",
        "dataset_orig_train_pred.labels = y_train_pred"
      ],
      "execution_count": 0,
      "outputs": []
    },
    {
      "cell_type": "code",
      "metadata": {
        "id": "Gsa2zs_0AS0q",
        "colab_type": "code",
        "colab": {}
      },
      "source": [
        "dataset_orig_valid_pred = dataset_orig_valid_bin.copy(deepcopy=True)\n",
        "X_valid = scale_orig.transform(dataset_orig_valid_pred.features)\n",
        "y_valid = dataset_orig_valid_pred.labels\n",
        "dataset_orig_valid_pred.scores = lmod.predict_proba(X_valid)[:,pos_ind].reshape(-1,1)\n",
        "\n",
        "dataset_orig_test_pred = dataset_orig_test_bin.copy(deepcopy=True)\n",
        "X_test = scale_orig.transform(dataset_orig_test_pred.features)\n",
        "y_test = dataset_orig_test_pred.labels\n",
        "dataset_orig_test_pred.scores = lmod.predict_proba(X_test)[:,pos_ind].reshape(-1,1)"
      ],
      "execution_count": 0,
      "outputs": []
    },
    {
      "cell_type": "code",
      "metadata": {
        "id": "ExmVs0ceBDms",
        "colab_type": "code",
        "outputId": "80eb1e0b-1994-4c41-ed2f-4580f47ae3e1",
        "colab": {
          "base_uri": "https://localhost:8080/",
          "height": 53
        }
      },
      "source": [
        "from aif360.metrics import ClassificationMetric\n",
        "\n",
        "num_thresh = 150\n",
        "ba_arr = np.zeros(num_thresh)\n",
        "class_thresh_arr = np.linspace(0.01, 0.99, num_thresh)\n",
        "for idx, class_thresh in enumerate(class_thresh_arr):\n",
        "    \n",
        "    fav_inds = dataset_orig_valid_pred.scores > class_thresh\n",
        "    dataset_orig_valid_pred.labels[fav_inds] = dataset_orig_valid_pred.favorable_label\n",
        "    dataset_orig_valid_pred.labels[~fav_inds] = dataset_orig_valid_pred.unfavorable_label\n",
        "    \n",
        "    classified_metric_orig_valid = ClassificationMetric(dataset_orig_valid_bin,\n",
        "                                             dataset_orig_valid_pred, \n",
        "                                             unprivileged_groups=unprivileged_group,\n",
        "                                             privileged_groups=privileged_group)\n",
        "    \n",
        "    ba_arr[idx] = 0.5*(classified_metric_orig_valid.true_positive_rate()\\\n",
        "                       +classified_metric_orig_valid.true_negative_rate())\n",
        "\n",
        "best_ind = np.where(ba_arr == np.max(ba_arr))[0][0]\n",
        "best_class_thresh = class_thresh_arr[best_ind]\n",
        "\n",
        "\n",
        "\n",
        "\n",
        "\n",
        "print(\"Best balanced accuracy (no fairness constraints) = %.4f\" % np.max(ba_arr))\n",
        "print(\"Optimal classification threshold (no fairness constraints) = %.4f\" % best_class_thresh)"
      ],
      "execution_count": 99,
      "outputs": [
        {
          "output_type": "stream",
          "text": [
            "Best balanced accuracy (no fairness constraints) = 0.7615\n",
            "Optimal classification threshold (no fairness constraints) = 0.2928\n"
          ],
          "name": "stdout"
        }
      ]
    },
    {
      "cell_type": "markdown",
      "metadata": {
        "id": "LNS_dUtrEoeI",
        "colab_type": "text"
      },
      "source": [
        "# Prediction and fairness metric from original test set"
      ]
    },
    {
      "cell_type": "code",
      "metadata": {
        "id": "Xc3dVPJtC94I",
        "colab_type": "code",
        "outputId": "21df3f52-7a2b-4906-de83-45d407dadbba",
        "colab": {
          "base_uri": "https://localhost:8080/",
          "height": 266
        }
      },
      "source": [
        "from tqdm import tqdm\n",
        "from collections import OrderedDict\n",
        "\n",
        "\n",
        "display(Markdown(\"#### Predictions from original testing data\"))\n",
        "\n",
        "bal_acc_arr_orig = []\n",
        "disp_imp_arr_orig = []\n",
        "avg_odds_diff_arr_orig = []\n",
        "\n",
        "display(Markdown(\"#### Testing set\"))\n",
        "display(Markdown(\"##### Raw predictions - No fairness constraints\"))\n",
        "\n",
        "for thresh in tqdm(class_thresh_arr):\n",
        "    \n",
        "    fav_inds = dataset_orig_test_pred.scores > thresh\n",
        "    dataset_orig_test_pred.labels[fav_inds] = dataset_orig_test_pred.favorable_label\n",
        "    dataset_orig_test_pred.labels[~fav_inds] = dataset_orig_test_pred.unfavorable_label\n",
        "    \n",
        "    if (thresh == best_class_thresh):\n",
        "        disp = True\n",
        "    else:\n",
        "        disp = False\n",
        "        \n",
        "    metric_test_bef = compute_metrics(dataset_orig_test_bin, dataset_orig_test_pred, \n",
        "                                       unprivileged_group, privileged_group, disp=disp)\n",
        "    \n",
        "    bal_acc_arr_orig.append(metric_test_bef[\"Balanced accuracy\"])\n",
        "    avg_odds_diff_arr_orig.append(metric_test_bef[\"Average odds difference\"])\n",
        "    disp_imp_arr_orig.append(metric_test_bef[\"Disparate impact\"])\n",
        "    #print(bal_acc_arr_orig)\n",
        "   "
      ],
      "execution_count": 100,
      "outputs": [
        {
          "output_type": "display_data",
          "data": {
            "text/markdown": "#### Predictions from original testing data",
            "text/plain": [
              "<IPython.core.display.Markdown object>"
            ]
          },
          "metadata": {
            "tags": []
          }
        },
        {
          "output_type": "display_data",
          "data": {
            "text/markdown": "#### Testing set",
            "text/plain": [
              "<IPython.core.display.Markdown object>"
            ]
          },
          "metadata": {
            "tags": []
          }
        },
        {
          "output_type": "display_data",
          "data": {
            "text/markdown": "##### Raw predictions - No fairness constraints",
            "text/plain": [
              "<IPython.core.display.Markdown object>"
            ]
          },
          "metadata": {
            "tags": []
          }
        },
        {
          "output_type": "stream",
          "text": [
            "\r  0%|          | 0/150 [00:00<?, ?it/s]"
          ],
          "name": "stderr"
        },
        {
          "output_type": "stream",
          "text": [
            "Balanced accuracy = 0.5562"
          ],
          "name": "stdout"
        },
        {
          "output_type": "stream",
          "text": [
            "\r 43%|████▎     | 65/150 [00:00<00:00, 648.02it/s]"
          ],
          "name": "stderr"
        },
        {
          "output_type": "stream",
          "text": [
            "\n",
            "Statistical parity difference = -0.0711\n",
            "Disparate impact = 0.8907\n",
            "Average odds difference = -0.0491\n",
            "Equal opportunity difference = 0.0268\n",
            "Theil index = 0.1859\n"
          ],
          "name": "stdout"
        },
        {
          "output_type": "stream",
          "text": [
            "/usr/local/lib/python3.6/dist-packages/aif360/metrics/dataset_metric.py:82: RuntimeWarning: divide by zero encountered in double_scalars\n",
            "  return metric_fun(privileged=False) / metric_fun(privileged=True)\n",
            "/usr/local/lib/python3.6/dist-packages/aif360/metrics/dataset_metric.py:82: RuntimeWarning: invalid value encountered in double_scalars\n",
            "  return metric_fun(privileged=False) / metric_fun(privileged=True)\n",
            "100%|██████████| 150/150 [00:00<00:00, 653.87it/s]\n"
          ],
          "name": "stderr"
        }
      ]
    },
    {
      "cell_type": "code",
      "metadata": {
        "id": "3uOaWP0vUo1W",
        "colab_type": "code",
        "outputId": "efd7ce9a-43c1-4027-e26f-9662b10a497c",
        "colab": {
          "base_uri": "https://localhost:8080/",
          "height": 497
        }
      },
      "source": [
        "print(max(bal_acc_arr_orig))\n",
        "print(max(class_thresh_arr))\n",
        "print(np.abs(1.0-np.array(disp_imp_arr_orig)))\n"
      ],
      "execution_count": 101,
      "outputs": [
        {
          "output_type": "stream",
          "text": [
            "0.5785024154589372\n",
            "0.99\n",
            "[0.         0.         0.         0.         0.         0.\n",
            " 0.         0.         0.         0.         0.         0.\n",
            " 0.         0.         0.         0.         0.         0.\n",
            " 0.         0.         0.02834008 0.02834008 0.02834008 0.02834008\n",
            " 0.02834008 0.00277008 0.02418208 0.05263158 0.08270677 0.08452951\n",
            " 0.02073365 0.07894737 0.21052632 0.18505942 0.15789474 0.15789474\n",
            " 0.12885662 0.12885662 0.12885662 0.12885662 0.12885662 0.09774436\n",
            " 0.09774436 0.10931174 0.07368421 0.15789474 0.24210526 0.24210526\n",
            " 0.24210526 0.24210526 0.24210526 0.24210526 0.32631579 0.32631579\n",
            " 0.38596491 0.38596491 0.38596491 0.38596491 0.26315789 0.26315789\n",
            " 0.22437673 0.18128655 0.13312693 0.15789474 0.09774436 0.09774436\n",
            " 0.02834008 0.12280702 0.12280702 0.12280702 0.0430622  0.0430622\n",
            " 0.23444976 0.23444976 0.23444976 0.06432749 0.05263158 0.05263158\n",
            " 0.05263158 0.05263158 0.09774436 0.09774436 0.09774436 0.05263158\n",
            " 0.05263158 0.29824561 0.29824561 0.15789474 0.05263158 0.40350877\n",
            " 0.40350877 0.40350877 0.40350877 0.29824561 0.29824561 1.10526316\n",
            "        inf        inf        inf        inf        inf        inf\n",
            "        inf        inf        inf        inf        inf        inf\n",
            "        inf        inf        inf        inf        inf        inf\n",
            "        inf        inf        inf        inf        inf        inf\n",
            "        inf        nan        nan        nan        nan        nan\n",
            "        nan        nan        nan        nan        nan        nan\n",
            "        nan        nan        nan        nan        nan        nan\n",
            "        nan        nan        nan        nan        nan        nan\n",
            "        nan        nan        nan        nan        nan        nan]\n"
          ],
          "name": "stdout"
        }
      ]
    },
    {
      "cell_type": "code",
      "metadata": {
        "id": "rnYz8kAwsnDz",
        "colab_type": "code",
        "outputId": "4804eb92-3b8d-4cb6-98b3-34333f14aec8",
        "colab": {
          "base_uri": "https://localhost:8080/",
          "height": 451
        }
      },
      "source": [
        "fig, ax1 = plt.subplots(figsize=(10,7))\n",
        "ax1.plot(class_thresh_arr, bal_acc_arr_orig)\n",
        "ax1.set_xlabel('Classification Thresholds', fontsize=16, fontweight='bold')\n",
        "ax1.set_ylabel('Balanced Accuracy', color='b', fontsize=16, fontweight='bold')\n",
        "ax1.xaxis.set_tick_params(labelsize=14)\n",
        "ax1.yaxis.set_tick_params(labelsize=14)\n",
        "\n",
        "\n",
        "ax2 = ax1.twinx()\n",
        "ax2.plot(class_thresh_arr, np.abs(1.0-np.array(disp_imp_arr_orig)), color='r')\n",
        "ax2.set_ylabel('abs(1-disparate impact)', color='r', fontsize=16, fontweight='bold')\n",
        "ax2.axvline(np.array(class_thresh_arr)[best_ind], \n",
        "            color='k', linestyle=':')\n",
        "ax2.yaxis.set_tick_params(labelsize=14)\n",
        "ax2.grid(True)\n",
        "\n",
        "disp_imp_at_best_bal_acc_orig = np.abs(1.0-np.array(disp_imp_arr_orig))[best_ind]"
      ],
      "execution_count": 102,
      "outputs": [
        {
          "output_type": "display_data",
          "data": {
            "image/png": "[encoded data removed]",
            "text/plain": [
              "<Figure size 720x504 with 2 Axes>"
            ]
          },
          "metadata": {
            "tags": []
          }
        }
      ]
    },
    {
      "cell_type": "markdown",
      "metadata": {
        "id": "Ezt3-UutTsgC",
        "colab_type": "text"
      },
      "source": [
        "abs(1-disparate impact) has to be close to 0 for the classifier to be fair. The maximum value is here 1.6.\n",
        "The Balanced Accuracy is 0.70. Classification Threshold = 0.59\n"
      ]
    },
    {
      "cell_type": "markdown",
      "metadata": {
        "id": "g3vucf85UWR9",
        "colab_type": "text"
      },
      "source": [
        "# With Transformed Data"
      ]
    },
    {
      "cell_type": "markdown",
      "metadata": {
        "id": "v755RlFWWbjl",
        "colab_type": "text"
      },
      "source": [
        "# Test Set"
      ]
    },
    {
      "cell_type": "code",
      "metadata": {
        "id": "TlNEiQ-fWe8-",
        "colab_type": "code",
        "colab": {}
      },
      "source": [
        "dataset_transf_test = reweigh.fit_transform(dataset_orig_test_bin)\n",
        "dataset_transf_test = dataset_orig_train_bin.align_datasets(dataset_transf_test)"
      ],
      "execution_count": 0,
      "outputs": []
    },
    {
      "cell_type": "code",
      "metadata": {
        "id": "th9IR31JUcpq",
        "colab_type": "code",
        "colab": {}
      },
      "source": [
        "from sklearn.ensemble import RandomForestClassifier\n",
        "\n",
        "scale_transf = StandardScaler()\n",
        "X_train = scale_transf.fit_transform(dataset_transf_train.features)\n",
        "y_train = dataset_transf_train.labels.ravel()\n",
        "\n",
        "lmod = LogisticRegression()\n",
        "\n",
        "lmod.fit(X_train, y_train)\n",
        "\n",
        "y_train_pred = lmod.predict(X_train)\n",
        "\n",
        "\n",
        "dataset_transf_train_pred = dataset_transf_train.copy()\n",
        "dataset_transf_train_pred.labels = y_train_pred"
      ],
      "execution_count": 0,
      "outputs": []
    },
    {
      "cell_type": "code",
      "metadata": {
        "id": "w3lMsnXWUx4I",
        "colab_type": "code",
        "colab": {}
      },
      "source": [
        "dataset_transf_test_pred = dataset_transf_test.copy(deepcopy=True)\n",
        "X_test = scale_transf.transform(dataset_transf_test_pred.features)\n",
        "y_test = dataset_transf_test_pred.labels\n",
        "dataset_transf_test_pred.scores = lmod.predict_proba(X_test)[:,pos_ind].reshape(-1,1)"
      ],
      "execution_count": 0,
      "outputs": []
    },
    {
      "cell_type": "code",
      "metadata": {
        "id": "Dr1UMCZ5eTmW",
        "colab_type": "code",
        "outputId": "619f2ad9-8288-4087-d6a5-f2dfd9435a18",
        "colab": {
          "base_uri": "https://localhost:8080/",
          "height": 230
        }
      },
      "source": [
        "display(Markdown(\"#### Predictions from transformed testing data\"))\n",
        "\n",
        "bal_acc_arr_transf = []\n",
        "disp_imp_arr_transf = []\n",
        "avg_odds_diff_arr_transf = []\n",
        "\n",
        "display(Markdown(\"#### Testing set\"))\n",
        "display(Markdown(\"##### Transformed predictions - No fairness constraints\"))\n",
        "\n",
        "for thresh in tqdm(class_thresh_arr):\n",
        "    \n",
        "    fav_inds = dataset_transf_test_pred.scores > thresh\n",
        "    dataset_transf_test_pred.labels[fav_inds] = dataset_transf_test_pred.favorable_label\n",
        "    dataset_transf_test_pred.labels[~fav_inds] = dataset_transf_test_pred.unfavorable_label\n",
        "\n",
        "    if (thresh == best_class_thresh):\n",
        "        disp = True\n",
        "    else:\n",
        "        disp = False\n",
        "        \n",
        "    metric_test_bef = compute_metrics(dataset_transf_test, dataset_transf_test_pred, \n",
        "                                       unprivileged_group, privileged_group, disp=disp)\n",
        "    \n",
        "    bal_acc_arr_transf.append(metric_test_bef[\"Balanced accuracy\"])\n",
        "    avg_odds_diff_arr_transf.append(metric_test_bef[\"Average odds difference\"])\n",
        "    disp_imp_arr_transf.append(metric_test_bef[\"Disparate impact\"])"
      ],
      "execution_count": 106,
      "outputs": [
        {
          "output_type": "display_data",
          "data": {
            "text/markdown": "#### Predictions from transformed testing data",
            "text/plain": [
              "<IPython.core.display.Markdown object>"
            ]
          },
          "metadata": {
            "tags": []
          }
        },
        {
          "output_type": "display_data",
          "data": {
            "text/markdown": "#### Testing set",
            "text/plain": [
              "<IPython.core.display.Markdown object>"
            ]
          },
          "metadata": {
            "tags": []
          }
        },
        {
          "output_type": "display_data",
          "data": {
            "text/markdown": "##### Transformed predictions - No fairness constraints",
            "text/plain": [
              "<IPython.core.display.Markdown object>"
            ]
          },
          "metadata": {
            "tags": []
          }
        },
        {
          "output_type": "stream",
          "text": [
            " 47%|████▋     | 70/150 [00:00<00:00, 699.86it/s]/usr/local/lib/python3.6/dist-packages/aif360/metrics/dataset_metric.py:82: RuntimeWarning: invalid value encountered in double_scalars\n",
            "  return metric_fun(privileged=False) / metric_fun(privileged=True)\n",
            "100%|██████████| 150/150 [00:00<00:00, 686.18it/s]"
          ],
          "name": "stderr"
        },
        {
          "output_type": "stream",
          "text": [
            "Balanced accuracy = 0.5000\n",
            "Statistical parity difference = 0.0000\n",
            "Disparate impact = 1.0000\n",
            "Average odds difference = 0.0000\n",
            "Equal opportunity difference = 0.0000\n",
            "Theil index = 0.0490\n"
          ],
          "name": "stdout"
        },
        {
          "output_type": "stream",
          "text": [
            "\n"
          ],
          "name": "stderr"
        }
      ]
    },
    {
      "cell_type": "code",
      "metadata": {
        "id": "_FS3_gGrebYy",
        "colab_type": "code",
        "outputId": "7ec4cba6-4c9d-4e6f-c025-dc164d3dc8e9",
        "colab": {
          "base_uri": "https://localhost:8080/",
          "height": 451
        }
      },
      "source": [
        "fig, ax1 = plt.subplots(figsize=(10,7))\n",
        "ax1.plot(class_thresh_arr, bal_acc_arr_transf)\n",
        "ax1.set_xlabel('Classification Thresholds', fontsize=16, fontweight='bold')\n",
        "ax1.set_ylabel('Balanced Accuracy', color='b', fontsize=16, fontweight='bold')\n",
        "ax1.xaxis.set_tick_params(labelsize=14)\n",
        "ax1.yaxis.set_tick_params(labelsize=14)\n",
        "\n",
        "\n",
        "ax2 = ax1.twinx()\n",
        "ax2.plot(class_thresh_arr, np.abs(1.0-np.array(disp_imp_arr_transf)), color='r')\n",
        "ax2.set_ylabel('abs(1-disparate impact)', color='r', fontsize=16, fontweight='bold')\n",
        "ax2.axvline(np.array(class_thresh_arr)[best_ind], \n",
        "            color='k', linestyle=':')\n",
        "ax2.yaxis.set_tick_params(labelsize=14)\n",
        "ax2.grid(True)\n",
        "\n",
        "disp_imp_at_best_bal_acc_transf = np.abs(1.0-np.array(disp_imp_arr_transf))[best_ind]"
      ],
      "execution_count": 107,
      "outputs": [
        {
          "output_type": "display_data",
          "data": {
            "image/png": "[encoded data removed]",
            "text/plain": [
              "<Figure size 720x504 with 2 Axes>"
            ]
          },
          "metadata": {
            "tags": []
          }
        }
      ]
    },
    {
      "cell_type": "code",
      "metadata": {
        "id": "IrN-ygzGefiA",
        "colab_type": "code",
        "colab": {}
      },
      "source": [
        "### testing\n",
        "assert disp_imp_at_best_bal_acc_transf < disp_imp_at_best_bal_acc_orig"
      ],
      "execution_count": 0,
      "outputs": []
    },
    {
      "cell_type": "markdown",
      "metadata": {
        "id": "GW3cLmKn3RHV",
        "colab_type": "text"
      },
      "source": [
        "# Random Forest"
      ]
    },
    {
      "cell_type": "code",
      "metadata": {
        "id": "oCjXsXhU3WSh",
        "colab_type": "code",
        "outputId": "b3c05a5a-016a-43a2-8323-fc68a812e330",
        "colab": {
          "base_uri": "https://localhost:8080/",
          "height": 700
        }
      },
      "source": [
        "from sklearn.pipeline import Pipeline\n",
        "\n",
        "rf = make_pipeline(StandardScaler(),\n",
        "                      RandomForestClassifier(n_estimators=500, min_samples_leaf=25))\n",
        "X_train = scale_orig.fit_transform(dataset_orig_train_bin.features)\n",
        "y_train = dataset_orig_train_bin.labels.ravel()\n",
        "rf.fit(X_train, y_train)\n",
        "y_train_pred = rf.predict(X_train)\n",
        "\n",
        "# positive class index\n",
        "pos_ind = np.where(rf.classes_ == dataset_orig_train_bin.favorable_label)[0][0]\n",
        "\n",
        "dataset_orig_train_pred = dataset_orig_train_bin.copy()\n",
        "dataset_orig_train_pred.labels = y_train_pred\n",
        "\n",
        "dataset_orig_valid_pred = dataset_orig_valid_bin.copy(deepcopy=True)\n",
        "X_valid = scale_orig.transform(dataset_orig_valid_pred.features)\n",
        "y_valid = dataset_orig_valid_pred.labels\n",
        "dataset_orig_valid_pred.scores = rf.predict_proba(X_valid)[:,pos_ind].reshape(-1,1)\n",
        "\n",
        "dataset_orig_test_pred = dataset_orig_test_bin.copy(deepcopy=True)\n",
        "X_test = scale_orig.transform(dataset_orig_test_pred.features)\n",
        "y_test = dataset_orig_test_pred.labels\n",
        "dataset_orig_test_pred.scores = rf.predict_proba(X_test)[:,pos_ind].reshape(-1,1)\n",
        "\n",
        "from aif360.metrics import ClassificationMetric\n",
        "\n",
        "num_thresh = 150\n",
        "ba_arr = np.zeros(num_thresh)\n",
        "class_thresh_arr = np.linspace(0.01, 0.99, num_thresh)\n",
        "for idx, class_thresh in enumerate(class_thresh_arr):\n",
        "    \n",
        "    fav_inds = dataset_orig_valid_pred.scores > class_thresh\n",
        "    dataset_orig_valid_pred.labels[fav_inds] = dataset_orig_valid_pred.favorable_label\n",
        "    dataset_orig_valid_pred.labels[~fav_inds] = dataset_orig_valid_pred.unfavorable_label\n",
        "    \n",
        "    classified_metric_orig_valid = ClassificationMetric(dataset_orig_valid_bin,\n",
        "                                             dataset_orig_valid_pred, \n",
        "                                             unprivileged_groups=unprivileged_group,\n",
        "                                             privileged_groups=privileged_group)\n",
        "    \n",
        "    ba_arr[idx] = 0.5*(classified_metric_orig_valid.true_positive_rate()\\\n",
        "                       +classified_metric_orig_valid.true_negative_rate())\n",
        "\n",
        "best_ind = np.where(ba_arr == np.max(ba_arr))[0][0]\n",
        "best_class_thresh = class_thresh_arr[best_ind]\n",
        "\n",
        "print(\"Best balanced accuracy (no fairness constraints) = %.4f\" % np.max(ba_arr))\n",
        "print(\"Optimal classification threshold (no fairness constraints) = %.4f\" % best_class_thresh)\n",
        "\n",
        "from tqdm import tqdm\n",
        "from collections import OrderedDict\n",
        "\n",
        "\n",
        "display(Markdown(\"#### Predictions from original testing data\"))\n",
        "\n",
        "bal_acc_arr_orig = []\n",
        "disp_imp_arr_orig = []\n",
        "avg_odds_diff_arr_orig = []\n",
        "\n",
        "display(Markdown(\"#### Testing set\"))\n",
        "display(Markdown(\"##### Raw predictions - No fairness constraints\"))\n",
        "\n",
        "for thresh in tqdm(class_thresh_arr):\n",
        "    \n",
        "    fav_inds = dataset_orig_test_pred.scores > thresh\n",
        "    dataset_orig_test_pred.labels[fav_inds] = dataset_orig_test_pred.favorable_label\n",
        "    dataset_orig_test_pred.labels[~fav_inds] = dataset_orig_test_pred.unfavorable_label\n",
        "    \n",
        "    if (thresh == best_class_thresh):\n",
        "        disp = True\n",
        "    else:\n",
        "        disp = False\n",
        "        \n",
        "    metric_test_bef = compute_metrics(dataset_orig_test_bin, dataset_orig_test_pred, \n",
        "                                       unprivileged_group, privileged_group, disp=disp)\n",
        "    \n",
        "    bal_acc_arr_orig.append(metric_test_bef[\"Balanced accuracy\"])\n",
        "    avg_odds_diff_arr_orig.append(metric_test_bef[\"Average odds difference\"])\n",
        "    disp_imp_arr_orig.append(metric_test_bef[\"Disparate impact\"])\n",
        "    #print(bal_acc_arr_orig)\n",
        "\n",
        "fig, ax1 = plt.subplots(figsize=(10,7))\n",
        "ax1.plot(class_thresh_arr, bal_acc_arr_orig)\n",
        "ax1.set_xlabel('Classification Thresholds', fontsize=16, fontweight='bold')\n",
        "ax1.set_ylabel('Balanced Accuracy', color='b', fontsize=16, fontweight='bold')\n",
        "ax1.xaxis.set_tick_params(labelsize=14)\n",
        "ax1.yaxis.set_tick_params(labelsize=14)\n",
        "\n",
        "\n",
        "ax2 = ax1.twinx()\n",
        "ax2.plot(class_thresh_arr, np.abs(1.0-np.array(disp_imp_arr_orig)), color='r')\n",
        "ax2.set_ylabel('abs(1-disparate impact)', color='r', fontsize=16, fontweight='bold')\n",
        "ax2.axvline(np.array(class_thresh_arr)[best_ind], \n",
        "            color='k', linestyle=':')\n",
        "ax2.yaxis.set_tick_params(labelsize=14)\n",
        "ax2.grid(True)\n",
        "\n",
        "disp_imp_at_best_bal_acc_orig = np.abs(1.0-np.array(disp_imp_arr_orig))[best_ind]\n",
        "\n",
        "\n"
      ],
      "execution_count": 109,
      "outputs": [
        {
          "output_type": "stream",
          "text": [
            "Best balanced accuracy (no fairness constraints) = 0.7236\n",
            "Optimal classification threshold (no fairness constraints) = 0.3849\n"
          ],
          "name": "stdout"
        },
        {
          "output_type": "display_data",
          "data": {
            "text/markdown": "#### Predictions from original testing data",
            "text/plain": [
              "<IPython.core.display.Markdown object>"
            ]
          },
          "metadata": {
            "tags": []
          }
        },
        {
          "output_type": "display_data",
          "data": {
            "text/markdown": "#### Testing set",
            "text/plain": [
              "<IPython.core.display.Markdown object>"
            ]
          },
          "metadata": {
            "tags": []
          }
        },
        {
          "output_type": "display_data",
          "data": {
            "text/markdown": "##### Raw predictions - No fairness constraints",
            "text/plain": [
              "<IPython.core.display.Markdown object>"
            ]
          },
          "metadata": {
            "tags": []
          }
        },
        {
          "output_type": "stream",
          "text": [
            "  0%|          | 0/150 [00:00<?, ?it/s]/usr/local/lib/python3.6/dist-packages/aif360/metrics/dataset_metric.py:82: RuntimeWarning: invalid value encountered in double_scalars\n",
            "  return metric_fun(privileged=False) / metric_fun(privileged=True)\n",
            " 49%|████▉     | 74/150 [00:00<00:00, 736.81it/s]"
          ],
          "name": "stderr"
        },
        {
          "output_type": "stream",
          "text": [
            "Balanced accuracy = 0.5386\n",
            "Statistical parity difference = -0.3118\n",
            "Disparate impact = 0.4577\n",
            "Average odds difference = -0.3557\n",
            "Equal opportunity difference = -0.5446\n",
            "Theil index = 0.2652\n"
          ],
          "name": "stdout"
        },
        {
          "output_type": "stream",
          "text": [
            "100%|██████████| 150/150 [00:00<00:00, 648.71it/s]\n"
          ],
          "name": "stderr"
        },
        {
          "output_type": "display_data",
          "data": {
            "image/png": "[encoded data removed]",
            "text/plain": [
              "<Figure size 720x504 with 2 Axes>"
            ]
          },
          "metadata": {
            "tags": []
          }
        }
      ]
    },
    {
      "cell_type": "code",
      "metadata": {
        "id": "Oq4LD_C-4N0E",
        "colab_type": "code",
        "outputId": "e43eb4a9-298c-44be-ab33-76650d5d49ec",
        "colab": {
          "base_uri": "https://localhost:8080/",
          "height": 664
        }
      },
      "source": [
        "# dataset_transf_test = reweigh.fit_transform(dataset_orig_test_bin)\n",
        "# dataset_transf_test = dataset_orig_train_bin.align_datasets(dataset_transf_test)\n",
        "\n",
        "\n",
        "# rf = make_pipeline(StandardScaler(),\n",
        "#                     RandomForestClassifier(n_estimators=500, min_samples_leaf=25))\n",
        "\n",
        "X_train = scale_transf.fit_transform(dataset_transf_train.features)\n",
        "y_train = dataset_transf_train.labels.ravel()\n",
        "\n",
        "\n",
        "rf.fit(X_train, y_train)\n",
        "y_train_pred = rf.predict(X_train)\n",
        "\n",
        "\n",
        "dataset_transf_train_pred = dataset_transf_train.copy()\n",
        "dataset_transf_train_pred.labels = y_train_pred\n",
        "\n",
        "dataset_transf_test_pred = dataset_transf_test.copy(deepcopy=True)\n",
        "X_test = scale_transf.transform(dataset_transf_test_pred.features)\n",
        "y_test = dataset_transf_test_pred.labels\n",
        "dataset_transf_test_pred.scores = rf.predict_proba(X_test)[:,pos_ind].reshape(-1,1)\n",
        "\n",
        "display(Markdown(\"#### Predictions from transformed testing data\"))\n",
        "\n",
        "bal_acc_arr_transf = []\n",
        "disp_imp_arr_transf = []\n",
        "avg_odds_diff_arr_transf = []\n",
        "\n",
        "display(Markdown(\"#### Testing set\"))\n",
        "display(Markdown(\"##### Transformed predictions - No fairness constraints\"))\n",
        "\n",
        "for thresh in tqdm(class_thresh_arr):\n",
        "    \n",
        "    fav_inds = dataset_transf_test_pred.scores > thresh\n",
        "    dataset_transf_test_pred.labels[fav_inds] = dataset_transf_test_pred.favorable_label\n",
        "    dataset_transf_test_pred.labels[~fav_inds] = dataset_transf_test_pred.unfavorable_label\n",
        "\n",
        "    if (thresh == best_class_thresh):\n",
        "        disp = True\n",
        "    else:\n",
        "        disp = False\n",
        "        \n",
        "    metric_test_bef = compute_metrics(dataset_transf_test, dataset_transf_test_pred, \n",
        "                                       unprivileged_group, privileged_group, disp=disp)\n",
        "    \n",
        "    bal_acc_arr_transf.append(metric_test_bef[\"Balanced accuracy\"])\n",
        "    avg_odds_diff_arr_transf.append(metric_test_bef[\"Average odds difference\"])\n",
        "    disp_imp_arr_transf.append(metric_test_bef[\"Disparate impact\"])\n",
        "\n",
        "fig, ax1 = plt.subplots(figsize=(10,7))\n",
        "ax1.plot(class_thresh_arr, bal_acc_arr_transf)\n",
        "ax1.set_xlabel('Classification Thresholds', fontsize=16, fontweight='bold')\n",
        "ax1.set_ylabel('Balanced Accuracy', color='b', fontsize=16, fontweight='bold')\n",
        "ax1.xaxis.set_tick_params(labelsize=14)\n",
        "ax1.yaxis.set_tick_params(labelsize=14)\n",
        "\n",
        "\n",
        "ax2 = ax1.twinx()\n",
        "ax2.plot(class_thresh_arr, np.abs(1.0-np.array(disp_imp_arr_transf)), color='r')\n",
        "ax2.set_ylabel('abs(1-disparate impact)', color='r', fontsize=16, fontweight='bold')\n",
        "ax2.axvline(np.array(class_thresh_arr)[best_ind], \n",
        "            color='k', linestyle=':')\n",
        "ax2.yaxis.set_tick_params(labelsize=14)\n",
        "ax2.grid(True)\n",
        "\n",
        "disp_imp_at_best_bal_acc_transf = np.abs(1.0-np.array(disp_imp_arr_transf))[best_ind]"
      ],
      "execution_count": 110,
      "outputs": [
        {
          "output_type": "display_data",
          "data": {
            "text/markdown": "#### Predictions from transformed testing data",
            "text/plain": [
              "<IPython.core.display.Markdown object>"
            ]
          },
          "metadata": {
            "tags": []
          }
        },
        {
          "output_type": "display_data",
          "data": {
            "text/markdown": "#### Testing set",
            "text/plain": [
              "<IPython.core.display.Markdown object>"
            ]
          },
          "metadata": {
            "tags": []
          }
        },
        {
          "output_type": "display_data",
          "data": {
            "text/markdown": "##### Transformed predictions - No fairness constraints",
            "text/plain": [
              "<IPython.core.display.Markdown object>"
            ]
          },
          "metadata": {
            "tags": []
          }
        },
        {
          "output_type": "stream",
          "text": [
            "  0%|          | 0/150 [00:00<?, ?it/s]/usr/local/lib/python3.6/dist-packages/aif360/metrics/dataset_metric.py:82: RuntimeWarning: invalid value encountered in double_scalars\n",
            "  return metric_fun(privileged=False) / metric_fun(privileged=True)\n",
            "100%|██████████| 150/150 [00:00<00:00, 715.73it/s]"
          ],
          "name": "stderr"
        },
        {
          "output_type": "stream",
          "text": [
            "Balanced accuracy = 0.5000\n",
            "Statistical parity difference = 0.0000\n",
            "Disparate impact = 1.0000\n",
            "Average odds difference = 0.0000\n",
            "Equal opportunity difference = 0.0000\n",
            "Theil index = 0.0490\n"
          ],
          "name": "stdout"
        },
        {
          "output_type": "stream",
          "text": [
            "\n"
          ],
          "name": "stderr"
        },
        {
          "output_type": "display_data",
          "data": {
            "image/png": "[encoded data removed]",
            "text/plain": [
              "<Figure size 720x504 with 2 Axes>"
            ]
          },
          "metadata": {
            "tags": []
          }
        }
      ]
    },
    {
      "cell_type": "code",
      "metadata": {
        "id": "YA-5DMjV4w8i",
        "colab_type": "code",
        "colab": {}
      },
      "source": [
        "### testing\n",
        "assert disp_imp_at_best_bal_acc_transf < disp_imp_at_best_bal_acc_orig"
      ],
      "execution_count": 0,
      "outputs": []
    }
  ]
}