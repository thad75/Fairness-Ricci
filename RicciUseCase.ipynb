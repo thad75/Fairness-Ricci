{
  "nbformat": 4,
  "nbformat_minor": 0,
  "metadata": {
    "colab": {
      "name": "RicciUseCase.ipynb",
      "provenance": [],
      "collapsed_sections": []
    },
    "kernelspec": {
      "name": "python3",
      "display_name": "Python 3"
    },
    "accelerator": "TPU"
  },
  "cells": [
    {
      "cell_type": "code",
      "metadata": {
        "id": "RbsdaJIjbA-S",
        "colab_type": "code",
        "outputId": "ed474382-c8c3-4d35-cdea-309179eae148",
        "colab": {
          "base_uri": "https://localhost:8080/",
          "height": 210
        }
      },
      "source": [
        "!pip install aif360\n",
        "from google.colab import drive\n",
        "drive.mount('/content/gdrive')"
      ],
      "execution_count": 20,
      "outputs": [
        {
          "output_type": "stream",
          "text": [
            "Requirement already satisfied: aif360 in /usr/local/lib/python3.6/dist-packages (0.2.2)\n",
            "Requirement already satisfied: scikit-learn in /usr/local/lib/python3.6/dist-packages (from aif360) (0.22.1)\n",
            "Requirement already satisfied: numpy>=1.16 in /usr/local/lib/python3.6/dist-packages (from aif360) (1.17.5)\n",
            "Requirement already satisfied: scipy in /usr/local/lib/python3.6/dist-packages (from aif360) (1.4.1)\n",
            "Requirement already satisfied: pandas>=0.23.3 in /usr/local/lib/python3.6/dist-packages (from aif360) (0.25.3)\n",
            "Requirement already satisfied: joblib>=0.11 in /usr/local/lib/python3.6/dist-packages (from scikit-learn->aif360) (0.14.1)\n",
            "Requirement already satisfied: python-dateutil>=2.6.1 in /usr/local/lib/python3.6/dist-packages (from pandas>=0.23.3->aif360) (2.6.1)\n",
            "Requirement already satisfied: pytz>=2017.2 in /usr/local/lib/python3.6/dist-packages (from pandas>=0.23.3->aif360) (2018.9)\n",
            "Requirement already satisfied: six>=1.5 in /usr/local/lib/python3.6/dist-packages (from python-dateutil>=2.6.1->pandas>=0.23.3->aif360) (1.12.0)\n",
            "Drive already mounted at /content/gdrive; to attempt to forcibly remount, call drive.mount(\"/content/gdrive\", force_remount=True).\n"
          ],
          "name": "stdout"
        }
      ]
    },
    {
      "cell_type": "code",
      "metadata": {
        "id": "lLwko0GZWvfj",
        "colab_type": "code",
        "colab": {}
      },
      "source": [
        "import sys \n",
        "import os  \n",
        "import matplotlib.pyplot as plt\n",
        "import numpy as np\n",
        "import pandas as pd\n",
        "from sklearn.model_selection import train_test_split"
      ],
      "execution_count": 0,
      "outputs": []
    },
    {
      "cell_type": "code",
      "metadata": {
        "id": "tcvH7fQoaEJK",
        "colab_type": "code",
        "colab": {}
      },
      "source": [
        "dataset = pd.read_csv('/content/gdrive/My Drive/Fairness inAI/Ricci.csv')\n",
        "dataset = dataset.drop(labels='Unnamed: 0', axis= 1)\n"
      ],
      "execution_count": 0,
      "outputs": []
    },
    {
      "cell_type": "code",
      "metadata": {
        "id": "mVvXx6WSfI0q",
        "colab_type": "code",
        "outputId": "65e3072b-8c0c-4a68-c111-3d1ddf3a57f9",
        "colab": {
          "base_uri": "https://localhost:8080/",
          "height": 171
        }
      },
      "source": [
        "dataset.groupby('Race').nunique()"
      ],
      "execution_count": 23,
      "outputs": [
        {
          "output_type": "execute_result",
          "data": {
            "text/html": [
              "<div>\n",
              "<style scoped>\n",
              "    .dataframe tbody tr th:only-of-type {\n",
              "        vertical-align: middle;\n",
              "    }\n",
              "\n",
              "    .dataframe tbody tr th {\n",
              "        vertical-align: top;\n",
              "    }\n",
              "\n",
              "    .dataframe thead th {\n",
              "        text-align: right;\n",
              "    }\n",
              "</style>\n",
              "<table border=\"1\" class=\"dataframe\">\n",
              "  <thead>\n",
              "    <tr style=\"text-align: right;\">\n",
              "      <th></th>\n",
              "      <th>Race</th>\n",
              "      <th>Position</th>\n",
              "      <th>Oral</th>\n",
              "      <th>Written</th>\n",
              "      <th>Combine</th>\n",
              "    </tr>\n",
              "    <tr>\n",
              "      <th>Race</th>\n",
              "      <th></th>\n",
              "      <th></th>\n",
              "      <th></th>\n",
              "      <th></th>\n",
              "      <th></th>\n",
              "    </tr>\n",
              "  </thead>\n",
              "  <tbody>\n",
              "    <tr>\n",
              "      <th>B</th>\n",
              "      <td>1</td>\n",
              "      <td>2</td>\n",
              "      <td>26</td>\n",
              "      <td>19</td>\n",
              "      <td>27</td>\n",
              "    </tr>\n",
              "    <tr>\n",
              "      <th>H</th>\n",
              "      <td>1</td>\n",
              "      <td>2</td>\n",
              "      <td>23</td>\n",
              "      <td>15</td>\n",
              "      <td>23</td>\n",
              "    </tr>\n",
              "    <tr>\n",
              "      <th>W</th>\n",
              "      <td>1</td>\n",
              "      <td>2</td>\n",
              "      <td>51</td>\n",
              "      <td>30</td>\n",
              "      <td>64</td>\n",
              "    </tr>\n",
              "  </tbody>\n",
              "</table>\n",
              "</div>"
            ],
            "text/plain": [
              "      Race  Position  Oral  Written  Combine\n",
              "Race                                        \n",
              "B        1         2    26       19       27\n",
              "H        1         2    23       15       23\n",
              "W        1         2    51       30       64"
            ]
          },
          "metadata": {
            "tags": []
          },
          "execution_count": 23
        }
      ]
    },
    {
      "cell_type": "code",
      "metadata": {
        "id": "26IU1JAXakqi",
        "colab_type": "code",
        "outputId": "21de1624-a7ce-4d94-fb29-c63ccc57a055",
        "colab": {
          "base_uri": "https://localhost:8080/",
          "height": 293
        }
      },
      "source": [
        "dataset.describe()"
      ],
      "execution_count": 24,
      "outputs": [
        {
          "output_type": "execute_result",
          "data": {
            "text/html": [
              "<div>\n",
              "<style scoped>\n",
              "    .dataframe tbody tr th:only-of-type {\n",
              "        vertical-align: middle;\n",
              "    }\n",
              "\n",
              "    .dataframe tbody tr th {\n",
              "        vertical-align: top;\n",
              "    }\n",
              "\n",
              "    .dataframe thead th {\n",
              "        text-align: right;\n",
              "    }\n",
              "</style>\n",
              "<table border=\"1\" class=\"dataframe\">\n",
              "  <thead>\n",
              "    <tr style=\"text-align: right;\">\n",
              "      <th></th>\n",
              "      <th>Oral</th>\n",
              "      <th>Written</th>\n",
              "      <th>Combine</th>\n",
              "    </tr>\n",
              "  </thead>\n",
              "  <tbody>\n",
              "    <tr>\n",
              "      <th>count</th>\n",
              "      <td>118.000000</td>\n",
              "      <td>118.000000</td>\n",
              "      <td>118.000000</td>\n",
              "    </tr>\n",
              "    <tr>\n",
              "      <th>mean</th>\n",
              "      <td>65.523390</td>\n",
              "      <td>71.652542</td>\n",
              "      <td>69.200881</td>\n",
              "    </tr>\n",
              "    <tr>\n",
              "      <th>std</th>\n",
              "      <td>12.421927</td>\n",
              "      <td>10.622808</td>\n",
              "      <td>9.387575</td>\n",
              "    </tr>\n",
              "    <tr>\n",
              "      <th>min</th>\n",
              "      <td>40.830000</td>\n",
              "      <td>46.000000</td>\n",
              "      <td>45.932000</td>\n",
              "    </tr>\n",
              "    <tr>\n",
              "      <th>25%</th>\n",
              "      <td>55.387500</td>\n",
              "      <td>65.000000</td>\n",
              "      <td>60.942000</td>\n",
              "    </tr>\n",
              "    <tr>\n",
              "      <th>50%</th>\n",
              "      <td>66.040000</td>\n",
              "      <td>71.500000</td>\n",
              "      <td>69.502000</td>\n",
              "    </tr>\n",
              "    <tr>\n",
              "      <th>75%</th>\n",
              "      <td>73.810000</td>\n",
              "      <td>78.500000</td>\n",
              "      <td>75.832000</td>\n",
              "    </tr>\n",
              "    <tr>\n",
              "      <th>max</th>\n",
              "      <td>92.080000</td>\n",
              "      <td>95.000000</td>\n",
              "      <td>92.808000</td>\n",
              "    </tr>\n",
              "  </tbody>\n",
              "</table>\n",
              "</div>"
            ],
            "text/plain": [
              "             Oral     Written     Combine\n",
              "count  118.000000  118.000000  118.000000\n",
              "mean    65.523390   71.652542   69.200881\n",
              "std     12.421927   10.622808    9.387575\n",
              "min     40.830000   46.000000   45.932000\n",
              "25%     55.387500   65.000000   60.942000\n",
              "50%     66.040000   71.500000   69.502000\n",
              "75%     73.810000   78.500000   75.832000\n",
              "max     92.080000   95.000000   92.808000"
            ]
          },
          "metadata": {
            "tags": []
          },
          "execution_count": 24
        }
      ]
    },
    {
      "cell_type": "code",
      "metadata": {
        "id": "Soj9Nkn4qt_D",
        "colab_type": "code",
        "outputId": "f7e68abf-d913-4731-f7c6-0d3a4e0996da",
        "colab": {
          "base_uri": "https://localhost:8080/",
          "height": 414
        }
      },
      "source": [
        "dataset.query('Position == Position.max()')"
      ],
      "execution_count": 25,
      "outputs": [
        {
          "output_type": "execute_result",
          "data": {
            "text/html": [
              "<div>\n",
              "<style scoped>\n",
              "    .dataframe tbody tr th:only-of-type {\n",
              "        vertical-align: middle;\n",
              "    }\n",
              "\n",
              "    .dataframe tbody tr th {\n",
              "        vertical-align: top;\n",
              "    }\n",
              "\n",
              "    .dataframe thead th {\n",
              "        text-align: right;\n",
              "    }\n",
              "</style>\n",
              "<table border=\"1\" class=\"dataframe\">\n",
              "  <thead>\n",
              "    <tr style=\"text-align: right;\">\n",
              "      <th></th>\n",
              "      <th>Race</th>\n",
              "      <th>Position</th>\n",
              "      <th>Oral</th>\n",
              "      <th>Written</th>\n",
              "      <th>Combine</th>\n",
              "    </tr>\n",
              "  </thead>\n",
              "  <tbody>\n",
              "    <tr>\n",
              "      <th>41</th>\n",
              "      <td>W</td>\n",
              "      <td>Lieutenant</td>\n",
              "      <td>88.75</td>\n",
              "      <td>91</td>\n",
              "      <td>90.100</td>\n",
              "    </tr>\n",
              "    <tr>\n",
              "      <th>42</th>\n",
              "      <td>W</td>\n",
              "      <td>Lieutenant</td>\n",
              "      <td>87.50</td>\n",
              "      <td>87</td>\n",
              "      <td>87.200</td>\n",
              "    </tr>\n",
              "    <tr>\n",
              "      <th>43</th>\n",
              "      <td>W</td>\n",
              "      <td>Lieutenant</td>\n",
              "      <td>77.50</td>\n",
              "      <td>91</td>\n",
              "      <td>85.600</td>\n",
              "    </tr>\n",
              "    <tr>\n",
              "      <th>44</th>\n",
              "      <td>W</td>\n",
              "      <td>Lieutenant</td>\n",
              "      <td>85.00</td>\n",
              "      <td>84</td>\n",
              "      <td>84.400</td>\n",
              "    </tr>\n",
              "    <tr>\n",
              "      <th>45</th>\n",
              "      <td>W</td>\n",
              "      <td>Lieutenant</td>\n",
              "      <td>80.00</td>\n",
              "      <td>87</td>\n",
              "      <td>84.200</td>\n",
              "    </tr>\n",
              "    <tr>\n",
              "      <th>...</th>\n",
              "      <td>...</td>\n",
              "      <td>...</td>\n",
              "      <td>...</td>\n",
              "      <td>...</td>\n",
              "      <td>...</td>\n",
              "    </tr>\n",
              "    <tr>\n",
              "      <th>113</th>\n",
              "      <td>H</td>\n",
              "      <td>Lieutenant</td>\n",
              "      <td>40.83</td>\n",
              "      <td>64</td>\n",
              "      <td>54.732</td>\n",
              "    </tr>\n",
              "    <tr>\n",
              "      <th>114</th>\n",
              "      <td>B</td>\n",
              "      <td>Lieutenant</td>\n",
              "      <td>52.08</td>\n",
              "      <td>56</td>\n",
              "      <td>54.432</td>\n",
              "    </tr>\n",
              "    <tr>\n",
              "      <th>115</th>\n",
              "      <td>H</td>\n",
              "      <td>Lieutenant</td>\n",
              "      <td>48.33</td>\n",
              "      <td>58</td>\n",
              "      <td>54.132</td>\n",
              "    </tr>\n",
              "    <tr>\n",
              "      <th>116</th>\n",
              "      <td>B</td>\n",
              "      <td>Lieutenant</td>\n",
              "      <td>52.92</td>\n",
              "      <td>49</td>\n",
              "      <td>50.568</td>\n",
              "    </tr>\n",
              "    <tr>\n",
              "      <th>117</th>\n",
              "      <td>B</td>\n",
              "      <td>Lieutenant</td>\n",
              "      <td>45.83</td>\n",
              "      <td>46</td>\n",
              "      <td>45.932</td>\n",
              "    </tr>\n",
              "  </tbody>\n",
              "</table>\n",
              "<p>77 rows × 5 columns</p>\n",
              "</div>"
            ],
            "text/plain": [
              "    Race    Position   Oral  Written  Combine\n",
              "41     W  Lieutenant  88.75       91   90.100\n",
              "42     W  Lieutenant  87.50       87   87.200\n",
              "43     W  Lieutenant  77.50       91   85.600\n",
              "44     W  Lieutenant  85.00       84   84.400\n",
              "45     W  Lieutenant  80.00       87   84.200\n",
              "..   ...         ...    ...      ...      ...\n",
              "113    H  Lieutenant  40.83       64   54.732\n",
              "114    B  Lieutenant  52.08       56   54.432\n",
              "115    H  Lieutenant  48.33       58   54.132\n",
              "116    B  Lieutenant  52.92       49   50.568\n",
              "117    B  Lieutenant  45.83       46   45.932\n",
              "\n",
              "[77 rows x 5 columns]"
            ]
          },
          "metadata": {
            "tags": []
          },
          "execution_count": 25
        }
      ]
    },
    {
      "cell_type": "code",
      "metadata": {
        "id": "ZrwqTD06s-ee",
        "colab_type": "code",
        "outputId": "e68bf99b-d9fa-4775-aaa9-2c32a25ae174",
        "colab": {
          "base_uri": "https://localhost:8080/",
          "height": 263
        }
      },
      "source": [
        "dataset.groupby(['Position', 'Race']).describe()['Oral']"
      ],
      "execution_count": 26,
      "outputs": [
        {
          "output_type": "execute_result",
          "data": {
            "text/html": [
              "<div>\n",
              "<style scoped>\n",
              "    .dataframe tbody tr th:only-of-type {\n",
              "        vertical-align: middle;\n",
              "    }\n",
              "\n",
              "    .dataframe tbody tr th {\n",
              "        vertical-align: top;\n",
              "    }\n",
              "\n",
              "    .dataframe thead th {\n",
              "        text-align: right;\n",
              "    }\n",
              "</style>\n",
              "<table border=\"1\" class=\"dataframe\">\n",
              "  <thead>\n",
              "    <tr style=\"text-align: right;\">\n",
              "      <th></th>\n",
              "      <th></th>\n",
              "      <th>count</th>\n",
              "      <th>mean</th>\n",
              "      <th>std</th>\n",
              "      <th>min</th>\n",
              "      <th>25%</th>\n",
              "      <th>50%</th>\n",
              "      <th>75%</th>\n",
              "      <th>max</th>\n",
              "    </tr>\n",
              "    <tr>\n",
              "      <th>Position</th>\n",
              "      <th>Race</th>\n",
              "      <th></th>\n",
              "      <th></th>\n",
              "      <th></th>\n",
              "      <th></th>\n",
              "      <th></th>\n",
              "      <th></th>\n",
              "      <th></th>\n",
              "      <th></th>\n",
              "    </tr>\n",
              "  </thead>\n",
              "  <tbody>\n",
              "    <tr>\n",
              "      <th rowspan=\"3\" valign=\"top\">Captain</th>\n",
              "      <th>B</th>\n",
              "      <td>8.0</td>\n",
              "      <td>65.892500</td>\n",
              "      <td>9.782318</td>\n",
              "      <td>52.38</td>\n",
              "      <td>58.6900</td>\n",
              "      <td>68.095</td>\n",
              "      <td>70.5975</td>\n",
              "      <td>82.38</td>\n",
              "    </tr>\n",
              "    <tr>\n",
              "      <th>H</th>\n",
              "      <td>8.0</td>\n",
              "      <td>63.928750</td>\n",
              "      <td>11.690974</td>\n",
              "      <td>42.86</td>\n",
              "      <td>58.2125</td>\n",
              "      <td>63.810</td>\n",
              "      <td>71.5475</td>\n",
              "      <td>79.05</td>\n",
              "    </tr>\n",
              "    <tr>\n",
              "      <th>W</th>\n",
              "      <td>25.0</td>\n",
              "      <td>72.362000</td>\n",
              "      <td>11.737808</td>\n",
              "      <td>48.57</td>\n",
              "      <td>62.3800</td>\n",
              "      <td>73.810</td>\n",
              "      <td>80.0000</td>\n",
              "      <td>89.52</td>\n",
              "    </tr>\n",
              "    <tr>\n",
              "      <th rowspan=\"3\" valign=\"top\">Lieutenant</th>\n",
              "      <th>B</th>\n",
              "      <td>19.0</td>\n",
              "      <td>63.135263</td>\n",
              "      <td>11.592291</td>\n",
              "      <td>45.83</td>\n",
              "      <td>55.4150</td>\n",
              "      <td>60.830</td>\n",
              "      <td>70.0000</td>\n",
              "      <td>92.08</td>\n",
              "    </tr>\n",
              "    <tr>\n",
              "      <th>H</th>\n",
              "      <td>15.0</td>\n",
              "      <td>53.361333</td>\n",
              "      <td>8.937207</td>\n",
              "      <td>40.83</td>\n",
              "      <td>47.2900</td>\n",
              "      <td>51.670</td>\n",
              "      <td>56.8750</td>\n",
              "      <td>70.83</td>\n",
              "    </tr>\n",
              "    <tr>\n",
              "      <th>W</th>\n",
              "      <td>43.0</td>\n",
              "      <td>67.073256</td>\n",
              "      <td>11.914666</td>\n",
              "      <td>44.58</td>\n",
              "      <td>58.1250</td>\n",
              "      <td>68.330</td>\n",
              "      <td>73.9600</td>\n",
              "      <td>88.75</td>\n",
              "    </tr>\n",
              "  </tbody>\n",
              "</table>\n",
              "</div>"
            ],
            "text/plain": [
              "                 count       mean        std  ...     50%      75%    max\n",
              "Position   Race                               ...                        \n",
              "Captain    B       8.0  65.892500   9.782318  ...  68.095  70.5975  82.38\n",
              "           H       8.0  63.928750  11.690974  ...  63.810  71.5475  79.05\n",
              "           W      25.0  72.362000  11.737808  ...  73.810  80.0000  89.52\n",
              "Lieutenant B      19.0  63.135263  11.592291  ...  60.830  70.0000  92.08\n",
              "           H      15.0  53.361333   8.937207  ...  51.670  56.8750  70.83\n",
              "           W      43.0  67.073256  11.914666  ...  68.330  73.9600  88.75\n",
              "\n",
              "[6 rows x 8 columns]"
            ]
          },
          "metadata": {
            "tags": []
          },
          "execution_count": 26
        }
      ]
    },
    {
      "cell_type": "code",
      "metadata": {
        "id": "ohq4iNRTzgjw",
        "colab_type": "code",
        "outputId": "0bb0d58a-f584-406f-de63-1ad135dcfb27",
        "colab": {
          "base_uri": "https://localhost:8080/",
          "height": 282
        }
      },
      "source": [
        "A = []\n",
        "for i in range (0,3):\n",
        "  A.append(dataset.groupby(['Position', 'Race'])['Oral'].head()[i])\n",
        "\n",
        "plt.plot(range(0,len(A)),A)"
      ],
      "execution_count": 27,
      "outputs": [
        {
          "output_type": "execute_result",
          "data": {
            "text/plain": [
              "[<matplotlib.lines.Line2D at 0x7f3479b554e0>]"
            ]
          },
          "metadata": {
            "tags": []
          },
          "execution_count": 27
        },
        {
          "output_type": "display_data",
          "data": {
            "image/png": "[encoded data removed]",
            "text/plain": [
              "<Figure size 432x288 with 1 Axes>"
            ]
          },
          "metadata": {
            "tags": []
          }
        }
      ]
    },
    {
      "cell_type": "code",
      "metadata": {
        "id": "aubHiv6FueOX",
        "colab_type": "code",
        "outputId": "c7283029-22e5-4e60-c39d-051da07b3ff9",
        "colab": {
          "base_uri": "https://localhost:8080/",
          "height": 263
        }
      },
      "source": [
        "dataset.groupby(['Position', 'Race'])['Written'].describe()"
      ],
      "execution_count": 28,
      "outputs": [
        {
          "output_type": "execute_result",
          "data": {
            "text/html": [
              "<div>\n",
              "<style scoped>\n",
              "    .dataframe tbody tr th:only-of-type {\n",
              "        vertical-align: middle;\n",
              "    }\n",
              "\n",
              "    .dataframe tbody tr th {\n",
              "        vertical-align: top;\n",
              "    }\n",
              "\n",
              "    .dataframe thead th {\n",
              "        text-align: right;\n",
              "    }\n",
              "</style>\n",
              "<table border=\"1\" class=\"dataframe\">\n",
              "  <thead>\n",
              "    <tr style=\"text-align: right;\">\n",
              "      <th></th>\n",
              "      <th></th>\n",
              "      <th>count</th>\n",
              "      <th>mean</th>\n",
              "      <th>std</th>\n",
              "      <th>min</th>\n",
              "      <th>25%</th>\n",
              "      <th>50%</th>\n",
              "      <th>75%</th>\n",
              "      <th>max</th>\n",
              "    </tr>\n",
              "    <tr>\n",
              "      <th>Position</th>\n",
              "      <th>Race</th>\n",
              "      <th></th>\n",
              "      <th></th>\n",
              "      <th></th>\n",
              "      <th></th>\n",
              "      <th></th>\n",
              "      <th></th>\n",
              "      <th></th>\n",
              "      <th></th>\n",
              "    </tr>\n",
              "  </thead>\n",
              "  <tbody>\n",
              "    <tr>\n",
              "      <th rowspan=\"3\" valign=\"top\">Captain</th>\n",
              "      <th>B</th>\n",
              "      <td>8.0</td>\n",
              "      <td>62.375000</td>\n",
              "      <td>11.500776</td>\n",
              "      <td>49.0</td>\n",
              "      <td>52.25</td>\n",
              "      <td>63.0</td>\n",
              "      <td>71.00</td>\n",
              "      <td>77.0</td>\n",
              "    </tr>\n",
              "    <tr>\n",
              "      <th>H</th>\n",
              "      <td>8.0</td>\n",
              "      <td>71.625000</td>\n",
              "      <td>8.450486</td>\n",
              "      <td>61.0</td>\n",
              "      <td>65.00</td>\n",
              "      <td>70.5</td>\n",
              "      <td>76.75</td>\n",
              "      <td>84.0</td>\n",
              "    </tr>\n",
              "    <tr>\n",
              "      <th>W</th>\n",
              "      <td>25.0</td>\n",
              "      <td>75.280000</td>\n",
              "      <td>8.928046</td>\n",
              "      <td>58.0</td>\n",
              "      <td>69.00</td>\n",
              "      <td>75.0</td>\n",
              "      <td>81.00</td>\n",
              "      <td>95.0</td>\n",
              "    </tr>\n",
              "    <tr>\n",
              "      <th rowspan=\"3\" valign=\"top\">Lieutenant</th>\n",
              "      <th>B</th>\n",
              "      <td>19.0</td>\n",
              "      <td>64.105263</td>\n",
              "      <td>10.213796</td>\n",
              "      <td>46.0</td>\n",
              "      <td>58.00</td>\n",
              "      <td>64.0</td>\n",
              "      <td>69.50</td>\n",
              "      <td>86.0</td>\n",
              "    </tr>\n",
              "    <tr>\n",
              "      <th>H</th>\n",
              "      <td>15.0</td>\n",
              "      <td>70.466667</td>\n",
              "      <td>6.128000</td>\n",
              "      <td>58.0</td>\n",
              "      <td>67.50</td>\n",
              "      <td>71.0</td>\n",
              "      <td>72.50</td>\n",
              "      <td>82.0</td>\n",
              "    </tr>\n",
              "    <tr>\n",
              "      <th>W</th>\n",
              "      <td>43.0</td>\n",
              "      <td>75.023256</td>\n",
              "      <td>10.747067</td>\n",
              "      <td>57.0</td>\n",
              "      <td>66.00</td>\n",
              "      <td>74.0</td>\n",
              "      <td>84.00</td>\n",
              "      <td>95.0</td>\n",
              "    </tr>\n",
              "  </tbody>\n",
              "</table>\n",
              "</div>"
            ],
            "text/plain": [
              "                 count       mean        std   min    25%   50%    75%   max\n",
              "Position   Race                                                             \n",
              "Captain    B       8.0  62.375000  11.500776  49.0  52.25  63.0  71.00  77.0\n",
              "           H       8.0  71.625000   8.450486  61.0  65.00  70.5  76.75  84.0\n",
              "           W      25.0  75.280000   8.928046  58.0  69.00  75.0  81.00  95.0\n",
              "Lieutenant B      19.0  64.105263  10.213796  46.0  58.00  64.0  69.50  86.0\n",
              "           H      15.0  70.466667   6.128000  58.0  67.50  71.0  72.50  82.0\n",
              "           W      43.0  75.023256  10.747067  57.0  66.00  74.0  84.00  95.0"
            ]
          },
          "metadata": {
            "tags": []
          },
          "execution_count": 28
        }
      ]
    },
    {
      "cell_type": "code",
      "metadata": {
        "id": "Sc38FJPt4zPw",
        "colab_type": "code",
        "outputId": "8590f72f-dc85-4f24-aacb-620e1e73fc9c",
        "colab": {
          "base_uri": "https://localhost:8080/",
          "height": 263
        }
      },
      "source": [
        "dataset.groupby(['Position', 'Race'])['Combine'].describe()"
      ],
      "execution_count": 29,
      "outputs": [
        {
          "output_type": "execute_result",
          "data": {
            "text/html": [
              "<div>\n",
              "<style scoped>\n",
              "    .dataframe tbody tr th:only-of-type {\n",
              "        vertical-align: middle;\n",
              "    }\n",
              "\n",
              "    .dataframe tbody tr th {\n",
              "        vertical-align: top;\n",
              "    }\n",
              "\n",
              "    .dataframe thead th {\n",
              "        text-align: right;\n",
              "    }\n",
              "</style>\n",
              "<table border=\"1\" class=\"dataframe\">\n",
              "  <thead>\n",
              "    <tr style=\"text-align: right;\">\n",
              "      <th></th>\n",
              "      <th></th>\n",
              "      <th>count</th>\n",
              "      <th>mean</th>\n",
              "      <th>std</th>\n",
              "      <th>min</th>\n",
              "      <th>25%</th>\n",
              "      <th>50%</th>\n",
              "      <th>75%</th>\n",
              "      <th>max</th>\n",
              "    </tr>\n",
              "    <tr>\n",
              "      <th>Position</th>\n",
              "      <th>Race</th>\n",
              "      <th></th>\n",
              "      <th></th>\n",
              "      <th></th>\n",
              "      <th></th>\n",
              "      <th></th>\n",
              "      <th></th>\n",
              "      <th></th>\n",
              "      <th></th>\n",
              "    </tr>\n",
              "  </thead>\n",
              "  <tbody>\n",
              "    <tr>\n",
              "      <th rowspan=\"3\" valign=\"top\">Captain</th>\n",
              "      <th>B</th>\n",
              "      <td>8.0</td>\n",
              "      <td>63.782000</td>\n",
              "      <td>8.492689</td>\n",
              "      <td>51.304</td>\n",
              "      <td>57.594</td>\n",
              "      <td>63.900</td>\n",
              "      <td>70.742</td>\n",
              "      <td>74.952</td>\n",
              "    </tr>\n",
              "    <tr>\n",
              "      <th>H</th>\n",
              "      <td>8.0</td>\n",
              "      <td>68.546500</td>\n",
              "      <td>8.701684</td>\n",
              "      <td>57.344</td>\n",
              "      <td>61.685</td>\n",
              "      <td>67.524</td>\n",
              "      <td>76.615</td>\n",
              "      <td>79.676</td>\n",
              "    </tr>\n",
              "    <tr>\n",
              "      <th>W</th>\n",
              "      <td>25.0</td>\n",
              "      <td>74.112800</td>\n",
              "      <td>8.251842</td>\n",
              "      <td>56.324</td>\n",
              "      <td>69.372</td>\n",
              "      <td>73.732</td>\n",
              "      <td>78.124</td>\n",
              "      <td>92.808</td>\n",
              "    </tr>\n",
              "    <tr>\n",
              "      <th rowspan=\"3\" valign=\"top\">Lieutenant</th>\n",
              "      <th>B</th>\n",
              "      <td>19.0</td>\n",
              "      <td>63.717263</td>\n",
              "      <td>9.076899</td>\n",
              "      <td>45.932</td>\n",
              "      <td>58.132</td>\n",
              "      <td>61.068</td>\n",
              "      <td>72.482</td>\n",
              "      <td>76.600</td>\n",
              "    </tr>\n",
              "    <tr>\n",
              "      <th>H</th>\n",
              "      <td>15.0</td>\n",
              "      <td>63.624533</td>\n",
              "      <td>5.768875</td>\n",
              "      <td>54.132</td>\n",
              "      <td>60.000</td>\n",
              "      <td>63.268</td>\n",
              "      <td>68.666</td>\n",
              "      <td>71.200</td>\n",
              "    </tr>\n",
              "    <tr>\n",
              "      <th>W</th>\n",
              "      <td>43.0</td>\n",
              "      <td>71.843256</td>\n",
              "      <td>9.145921</td>\n",
              "      <td>56.632</td>\n",
              "      <td>66.434</td>\n",
              "      <td>70.732</td>\n",
              "      <td>78.766</td>\n",
              "      <td>90.100</td>\n",
              "    </tr>\n",
              "  </tbody>\n",
              "</table>\n",
              "</div>"
            ],
            "text/plain": [
              "                 count       mean       std  ...     50%     75%     max\n",
              "Position   Race                              ...                        \n",
              "Captain    B       8.0  63.782000  8.492689  ...  63.900  70.742  74.952\n",
              "           H       8.0  68.546500  8.701684  ...  67.524  76.615  79.676\n",
              "           W      25.0  74.112800  8.251842  ...  73.732  78.124  92.808\n",
              "Lieutenant B      19.0  63.717263  9.076899  ...  61.068  72.482  76.600\n",
              "           H      15.0  63.624533  5.768875  ...  63.268  68.666  71.200\n",
              "           W      43.0  71.843256  9.145921  ...  70.732  78.766  90.100\n",
              "\n",
              "[6 rows x 8 columns]"
            ]
          },
          "metadata": {
            "tags": []
          },
          "execution_count": 29
        }
      ]
    },
    {
      "cell_type": "code",
      "metadata": {
        "id": "Cem8wIL6pHqA",
        "colab_type": "code",
        "outputId": "e0523542-1d04-4fdc-9ce3-c0e1824d6656",
        "colab": {
          "base_uri": "https://localhost:8080/",
          "height": 69
        }
      },
      "source": [
        "labels = (dataset.columns.values)\n",
        "print(labels)\n",
        "labels = np.reshape(labels, (np.asarray(labels).shape[0],1)).ravel()\n",
        "print(labels[1])\n",
        "np_dataset = dataset.to_numpy()\n",
        "print(np_dataset.shape)"
      ],
      "execution_count": 46,
      "outputs": [
        {
          "output_type": "stream",
          "text": [
            "['Race' 'Position' 'Oral' 'Written' 'Combine']\n",
            "Position\n",
            "(118, 5)\n"
          ],
          "name": "stdout"
        }
      ]
    },
    {
      "cell_type": "markdown",
      "metadata": {
        "id": "nf4rhmN1h8IV",
        "colab_type": "text"
      },
      "source": [
        "# First step \n",
        "\n",
        "modify data : removing features taht should not be used for classification (protected attributes)\n",
        "We put the privileged group to 1 (race : W)\n",
        "All the other value are set to 0 ( race : H, B)"
      ]
    },
    {
      "cell_type": "markdown",
      "metadata": {
        "id": "7jfRxbaK2RNx",
        "colab_type": "text"
      },
      "source": [
        "Preprocessing\n",
        "\n",
        "we scale the value between 0 and 1 and we put the privileged group at 1\n"
      ]
    },
    {
      "cell_type": "code",
      "metadata": {
        "id": "9-6v92An2QDT",
        "colab_type": "code",
        "outputId": "f847e332-486f-4d56-9ac5-779c26e67d6c",
        "colab": {
          "base_uri": "https://localhost:8080/",
          "height": 201
        }
      },
      "source": [
        "proc_dataset= dataset.replace(['W','B','H','Captain','Lieutenant'],[1,0,0,1,0])\n",
        "proc_dataset['Oral']= (proc_dataset['Oral']-min(proc_dataset['Oral']))/(max(proc_dataset['Oral'])-min(proc_dataset['Oral']))\n",
        "proc_dataset['Written']= (proc_dataset['Written']-min(proc_dataset['Written']))/(max(proc_dataset['Written'])-min(proc_dataset['Written']))\n",
        "proc_dataset['Combine']= (proc_dataset['Combine']-min(proc_dataset['Combine']))/(max(proc_dataset['Combine'])-min(proc_dataset['Combine']))\n",
        "proc_dataset.head()"
      ],
      "execution_count": 31,
      "outputs": [
        {
          "output_type": "execute_result",
          "data": {
            "text/html": [
              "<div>\n",
              "<style scoped>\n",
              "    .dataframe tbody tr th:only-of-type {\n",
              "        vertical-align: middle;\n",
              "    }\n",
              "\n",
              "    .dataframe tbody tr th {\n",
              "        vertical-align: top;\n",
              "    }\n",
              "\n",
              "    .dataframe thead th {\n",
              "        text-align: right;\n",
              "    }\n",
              "</style>\n",
              "<table border=\"1\" class=\"dataframe\">\n",
              "  <thead>\n",
              "    <tr style=\"text-align: right;\">\n",
              "      <th></th>\n",
              "      <th>Race</th>\n",
              "      <th>Position</th>\n",
              "      <th>Oral</th>\n",
              "      <th>Written</th>\n",
              "      <th>Combine</th>\n",
              "    </tr>\n",
              "  </thead>\n",
              "  <tbody>\n",
              "    <tr>\n",
              "      <th>0</th>\n",
              "      <td>1</td>\n",
              "      <td>1</td>\n",
              "      <td>0.950049</td>\n",
              "      <td>1.000000</td>\n",
              "      <td>1.000000</td>\n",
              "    </tr>\n",
              "    <tr>\n",
              "      <th>1</th>\n",
              "      <td>1</td>\n",
              "      <td>1</td>\n",
              "      <td>0.764293</td>\n",
              "      <td>1.000000</td>\n",
              "      <td>0.918764</td>\n",
              "    </tr>\n",
              "    <tr>\n",
              "      <th>2</th>\n",
              "      <td>1</td>\n",
              "      <td>1</td>\n",
              "      <td>0.810732</td>\n",
              "      <td>0.836735</td>\n",
              "      <td>0.836675</td>\n",
              "    </tr>\n",
              "    <tr>\n",
              "      <th>3</th>\n",
              "      <td>1</td>\n",
              "      <td>1</td>\n",
              "      <td>0.931512</td>\n",
              "      <td>0.612245</td>\n",
              "      <td>0.748699</td>\n",
              "    </tr>\n",
              "    <tr>\n",
              "      <th>4</th>\n",
              "      <td>1</td>\n",
              "      <td>1</td>\n",
              "      <td>0.689951</td>\n",
              "      <td>0.775510</td>\n",
              "      <td>0.745456</td>\n",
              "    </tr>\n",
              "  </tbody>\n",
              "</table>\n",
              "</div>"
            ],
            "text/plain": [
              "   Race  Position      Oral   Written   Combine\n",
              "0     1         1  0.950049  1.000000  1.000000\n",
              "1     1         1  0.764293  1.000000  0.918764\n",
              "2     1         1  0.810732  0.836735  0.836675\n",
              "3     1         1  0.931512  0.612245  0.748699\n",
              "4     1         1  0.689951  0.775510  0.745456"
            ]
          },
          "metadata": {
            "tags": []
          },
          "execution_count": 31
        }
      ]
    },
    {
      "cell_type": "code",
      "metadata": {
        "id": "BBG_6tZc1aA4",
        "colab_type": "code",
        "outputId": "eef9de18-9acb-4230-e2a3-532f2c172fdb",
        "colab": {
          "base_uri": "https://localhost:8080/",
          "height": 260
        }
      },
      "source": [
        "from sklearn.model_selection import train_test_split\n",
        "train, test = train_test_split(proc_dataset, test_size=0.2)\n",
        "\n",
        "print(train)"
      ],
      "execution_count": 67,
      "outputs": [
        {
          "output_type": "stream",
          "text": [
            "     Race  Position      Oral   Written   Combine\n",
            "38      1         1  0.253268  0.244898  0.221691\n",
            "11      1         1  0.764293  0.571429  0.649970\n",
            "13      1         1  0.643512  0.632653  0.635549\n",
            "69      1         0  0.487805  0.571429  0.529055\n",
            "24      1         1  0.597073  0.448980  0.500043\n",
            "..    ...       ...       ...       ...       ...\n",
            "88      1         0  0.187122  0.591837  0.410359\n",
            "54      0         0  0.715512  0.612245  0.654237\n",
            "22      1         1  0.420488  0.591837  0.512416\n",
            "115     0         0  0.146341  0.244898  0.174930\n",
            "100     0         0  0.203317  0.408163  0.302244\n",
            "\n",
            "[94 rows x 5 columns]\n"
          ],
          "name": "stdout"
        }
      ]
    },
    {
      "cell_type": "code",
      "metadata": {
        "id": "HUqy3oKzgPh_",
        "colab_type": "code",
        "colab": {}
      },
      "source": [
        "sensitive_attribute = 'Race'\n",
        "privileged_group = [{'Race':1}]\n",
        "unprivileged_group = [{'Race':0}]\n",
        "\n",
        "np_proc_dataset = proc_dataset.to_numpy()\n",
        "import aif360.metrics \n",
        "import aif360.datasets\n",
        "import aif360.algorithms.preprocessing\n",
        "import aif360.algorithms.inprocessing\n",
        "import aif360.algorithms.postprocessing"
      ],
      "execution_count": 0,
      "outputs": []
    },
    {
      "cell_type": "markdown",
      "metadata": {
        "id": "Fql9aUpPCLjU",
        "colab_type": "text"
      },
      "source": [
        "# ** ISSUES Creating BinaryLabelDataset for metrics and other algorithms** #"
      ]
    },
    {
      "cell_type": "code",
      "metadata": {
        "id": "KFeVKmEfCSmm",
        "colab_type": "code",
        "outputId": "eed14361-bf23-4c01-adcd-10e4a045a794",
        "colab": {
          "base_uri": "https://localhost:8080/",
          "height": 384
        }
      },
      "source": [
        "protected_attribute= ['Race']\n",
        "print(protected_attribute[0])\n",
        "df = aif360.datasets.StructuredDataset(train,label_names=labels, protected_attribute_names=protected_attribute)\n",
        "\n",
        "bin_df = aif360.datasets.BinaryLabelDataset(favorable_label=1, unfavorable_label=0,df = df, label_names= labels, protected_attribute_names=protected_attribute)\n"
      ],
      "execution_count": 99,
      "outputs": [
        {
          "output_type": "stream",
          "text": [
            "Race\n"
          ],
          "name": "stdout"
        },
        {
          "output_type": "error",
          "ename": "AttributeError",
          "evalue": "ignored",
          "traceback": [
            "\u001b[0;31m---------------------------------------------------------------------------\u001b[0m",
            "\u001b[0;31mAttributeError\u001b[0m                            Traceback (most recent call last)",
            "\u001b[0;32m<ipython-input-99-f0207bc7374f>\u001b[0m in \u001b[0;36m<module>\u001b[0;34m()\u001b[0m\n\u001b[1;32m      3\u001b[0m \u001b[0mdf\u001b[0m \u001b[0;34m=\u001b[0m \u001b[0maif360\u001b[0m\u001b[0;34m.\u001b[0m\u001b[0mdatasets\u001b[0m\u001b[0;34m.\u001b[0m\u001b[0mStructuredDataset\u001b[0m\u001b[0;34m(\u001b[0m\u001b[0mtrain\u001b[0m\u001b[0;34m,\u001b[0m\u001b[0mlabel_names\u001b[0m\u001b[0;34m=\u001b[0m\u001b[0mlabels\u001b[0m\u001b[0;34m,\u001b[0m \u001b[0mprotected_attribute_names\u001b[0m\u001b[0;34m=\u001b[0m\u001b[0mprotected_attribute\u001b[0m\u001b[0;34m)\u001b[0m\u001b[0;34m\u001b[0m\u001b[0;34m\u001b[0m\u001b[0m\n\u001b[1;32m      4\u001b[0m \u001b[0;34m\u001b[0m\u001b[0m\n\u001b[0;32m----> 5\u001b[0;31m \u001b[0mbin_df\u001b[0m \u001b[0;34m=\u001b[0m \u001b[0maif360\u001b[0m\u001b[0;34m.\u001b[0m\u001b[0mdatasets\u001b[0m\u001b[0;34m.\u001b[0m\u001b[0mBinaryLabelDataset\u001b[0m\u001b[0;34m(\u001b[0m\u001b[0mfavorable_label\u001b[0m\u001b[0;34m=\u001b[0m\u001b[0;36m1\u001b[0m\u001b[0;34m,\u001b[0m \u001b[0munfavorable_label\u001b[0m\u001b[0;34m=\u001b[0m\u001b[0;36m0\u001b[0m\u001b[0;34m,\u001b[0m\u001b[0mdf\u001b[0m \u001b[0;34m=\u001b[0m \u001b[0mdf\u001b[0m\u001b[0;34m,\u001b[0m \u001b[0mlabel_names\u001b[0m\u001b[0;34m=\u001b[0m \u001b[0mlabels\u001b[0m\u001b[0;34m,\u001b[0m \u001b[0mprotected_attribute_names\u001b[0m\u001b[0;34m=\u001b[0m\u001b[0mprotected_attribute\u001b[0m\u001b[0;34m)\u001b[0m\u001b[0;34m\u001b[0m\u001b[0;34m\u001b[0m\u001b[0m\n\u001b[0m",
            "\u001b[0;32m/usr/local/lib/python3.6/dist-packages/aif360/datasets/binary_label_dataset.py\u001b[0m in \u001b[0;36m__init__\u001b[0;34m(self, favorable_label, unfavorable_label, **kwargs)\u001b[0m\n\u001b[1;32m     19\u001b[0m         \u001b[0mself\u001b[0m\u001b[0;34m.\u001b[0m\u001b[0munfavorable_label\u001b[0m \u001b[0;34m=\u001b[0m \u001b[0mfloat\u001b[0m\u001b[0;34m(\u001b[0m\u001b[0munfavorable_label\u001b[0m\u001b[0;34m)\u001b[0m\u001b[0;34m\u001b[0m\u001b[0;34m\u001b[0m\u001b[0m\n\u001b[1;32m     20\u001b[0m \u001b[0;34m\u001b[0m\u001b[0m\n\u001b[0;32m---> 21\u001b[0;31m         \u001b[0msuper\u001b[0m\u001b[0;34m(\u001b[0m\u001b[0mBinaryLabelDataset\u001b[0m\u001b[0;34m,\u001b[0m \u001b[0mself\u001b[0m\u001b[0;34m)\u001b[0m\u001b[0;34m.\u001b[0m\u001b[0m__init__\u001b[0m\u001b[0;34m(\u001b[0m\u001b[0;34m**\u001b[0m\u001b[0mkwargs\u001b[0m\u001b[0;34m)\u001b[0m\u001b[0;34m\u001b[0m\u001b[0;34m\u001b[0m\u001b[0m\n\u001b[0m\u001b[1;32m     22\u001b[0m \u001b[0;34m\u001b[0m\u001b[0m\n\u001b[1;32m     23\u001b[0m     \u001b[0;32mdef\u001b[0m \u001b[0mvalidate_dataset\u001b[0m\u001b[0;34m(\u001b[0m\u001b[0mself\u001b[0m\u001b[0;34m)\u001b[0m\u001b[0;34m:\u001b[0m\u001b[0;34m\u001b[0m\u001b[0;34m\u001b[0m\u001b[0m\n",
            "\u001b[0;32m/usr/local/lib/python3.6/dist-packages/aif360/datasets/structured_dataset.py\u001b[0m in \u001b[0;36m__init__\u001b[0;34m(self, df, label_names, protected_attribute_names, instance_weights_name, scores_names, unprivileged_protected_attributes, privileged_protected_attributes, metadata)\u001b[0m\n\u001b[1;32m     91\u001b[0m             raise TypeError(\"Must provide a pandas DataFrame representing \"\n\u001b[1;32m     92\u001b[0m                             \"the data (features, labels, protected attributes)\")\n\u001b[0;32m---> 93\u001b[0;31m         \u001b[0;32mif\u001b[0m \u001b[0mdf\u001b[0m\u001b[0;34m.\u001b[0m\u001b[0misna\u001b[0m\u001b[0;34m(\u001b[0m\u001b[0;34m)\u001b[0m\u001b[0;34m.\u001b[0m\u001b[0many\u001b[0m\u001b[0;34m(\u001b[0m\u001b[0;34m)\u001b[0m\u001b[0;34m.\u001b[0m\u001b[0many\u001b[0m\u001b[0;34m(\u001b[0m\u001b[0;34m)\u001b[0m\u001b[0;34m:\u001b[0m\u001b[0;34m\u001b[0m\u001b[0;34m\u001b[0m\u001b[0m\n\u001b[0m\u001b[1;32m     94\u001b[0m             \u001b[0;32mraise\u001b[0m \u001b[0mValueError\u001b[0m\u001b[0;34m(\u001b[0m\u001b[0;34m\"Input DataFrames cannot contain NA values.\"\u001b[0m\u001b[0;34m)\u001b[0m\u001b[0;34m\u001b[0m\u001b[0;34m\u001b[0m\u001b[0m\n\u001b[1;32m     95\u001b[0m         \u001b[0;32mtry\u001b[0m\u001b[0;34m:\u001b[0m\u001b[0;34m\u001b[0m\u001b[0;34m\u001b[0m\u001b[0m\n",
            "\u001b[0;31mAttributeError\u001b[0m: 'StructuredDataset' object has no attribute 'isna'"
          ]
        }
      ]
    },
    {
      "cell_type": "code",
      "metadata": {
        "id": "5Vrxv1NTump9",
        "colab_type": "code",
        "outputId": "f2960d24-a65b-4b3c-d703-1b523858c86d",
        "colab": {
          "base_uri": "https://localhost:8080/",
          "height": 359
        }
      },
      "source": [
        "dm = aif360.metrics.DatasetMetric(df, unprivileged_groups= unprivileged_group, privileged_groups= privileged_group)\n",
        "print(dm.num_instances)\n",
        "\n",
        "metric_transf_train = aif360.metrics.BinaryLabelDatasetMetric(train, \n",
        "                                         unprivileged_groups=unprivileged_group,\n",
        "                                         privileged_groups=privileged_group)"
      ],
      "execution_count": 95,
      "outputs": [
        {
          "output_type": "stream",
          "text": [
            "<bound method DatasetMetric.num_instances of <aif360.metrics.dataset_metric.DatasetMetric object at 0x7f347289f5c0>>\n"
          ],
          "name": "stdout"
        },
        {
          "output_type": "error",
          "ename": "TypeError",
          "evalue": "ignored",
          "traceback": [
            "\u001b[0;31m---------------------------------------------------------------------------\u001b[0m",
            "\u001b[0;31mTypeError\u001b[0m                                 Traceback (most recent call last)",
            "\u001b[0;32m<ipython-input-95-d6109b3c335b>\u001b[0m in \u001b[0;36m<module>\u001b[0;34m()\u001b[0m\n\u001b[1;32m      4\u001b[0m metric_transf_train = aif360.metrics.BinaryLabelDatasetMetric(train, \n\u001b[1;32m      5\u001b[0m                                          \u001b[0munprivileged_groups\u001b[0m\u001b[0;34m=\u001b[0m\u001b[0munprivileged_group\u001b[0m\u001b[0;34m,\u001b[0m\u001b[0;34m\u001b[0m\u001b[0;34m\u001b[0m\u001b[0m\n\u001b[0;32m----> 6\u001b[0;31m                                          privileged_groups=privileged_group)\n\u001b[0m",
            "\u001b[0;32m/usr/local/lib/python3.6/dist-packages/aif360/metrics/binary_label_dataset_metric.py\u001b[0m in \u001b[0;36m__init__\u001b[0;34m(self, dataset, unprivileged_groups, privileged_groups)\u001b[0m\n\u001b[1;32m     27\u001b[0m         \"\"\"\n\u001b[1;32m     28\u001b[0m         \u001b[0;32mif\u001b[0m \u001b[0;32mnot\u001b[0m \u001b[0misinstance\u001b[0m\u001b[0;34m(\u001b[0m\u001b[0mdataset\u001b[0m\u001b[0;34m,\u001b[0m \u001b[0mBinaryLabelDataset\u001b[0m\u001b[0;34m)\u001b[0m\u001b[0;34m:\u001b[0m\u001b[0;34m\u001b[0m\u001b[0;34m\u001b[0m\u001b[0m\n\u001b[0;32m---> 29\u001b[0;31m             \u001b[0;32mraise\u001b[0m \u001b[0mTypeError\u001b[0m\u001b[0;34m(\u001b[0m\u001b[0;34m\"'dataset' should be a BinaryLabelDataset\"\u001b[0m\u001b[0;34m)\u001b[0m\u001b[0;34m\u001b[0m\u001b[0;34m\u001b[0m\u001b[0m\n\u001b[0m\u001b[1;32m     30\u001b[0m \u001b[0;34m\u001b[0m\u001b[0m\n\u001b[1;32m     31\u001b[0m         \u001b[0;31m# sets self.dataset, self.unprivileged_groups, self.privileged_groups\u001b[0m\u001b[0;34m\u001b[0m\u001b[0;34m\u001b[0m\u001b[0;34m\u001b[0m\u001b[0m\n",
            "\u001b[0;31mTypeError\u001b[0m: 'dataset' should be a BinaryLabelDataset"
          ]
        }
      ]
    },
    {
      "cell_type": "code",
      "metadata": {
        "id": "-eSYLWR53CA3",
        "colab_type": "code",
        "colab": {
          "base_uri": "https://localhost:8080/",
          "height": 305
        },
        "outputId": "dd577900-17e2-4f07-b4f9-59c2048d01bd"
      },
      "source": [
        "from aif360.algorithms.inprocessing import MetaFairClassifier\n",
        "print(df.label_names)\n",
        "meta = MetaFairClassifier(sensitive_attr='Race')\n",
        "#meta.fit(df)\n",
        "#x_train = df.features\n",
        "#y_train = np.array([1 if y == [df.favorable_label] else\n",
        "                           -1 for y in df.labels])"
      ],
      "execution_count": 94,
      "outputs": [
        {
          "output_type": "stream",
          "text": [
            "['Race', 'Position', 'Oral', 'Written', 'Combine']\n"
          ],
          "name": "stdout"
        },
        {
          "output_type": "error",
          "ename": "AttributeError",
          "evalue": "ignored",
          "traceback": [
            "\u001b[0;31m---------------------------------------------------------------------------\u001b[0m",
            "\u001b[0;31mAttributeError\u001b[0m                            Traceback (most recent call last)",
            "\u001b[0;32m<ipython-input-94-6f25ae62e085>\u001b[0m in \u001b[0;36m<module>\u001b[0;34m()\u001b[0m\n\u001b[1;32m      5\u001b[0m \u001b[0mx_train\u001b[0m \u001b[0;34m=\u001b[0m \u001b[0mdf\u001b[0m\u001b[0;34m.\u001b[0m\u001b[0mfeatures\u001b[0m\u001b[0;34m\u001b[0m\u001b[0;34m\u001b[0m\u001b[0m\n\u001b[1;32m      6\u001b[0m y_train = np.array([1 if y == [df.favorable_label] else\n\u001b[0;32m----> 7\u001b[0;31m                            -1 for y in df.labels])\n\u001b[0m",
            "\u001b[0;32m<ipython-input-94-6f25ae62e085>\u001b[0m in \u001b[0;36m<listcomp>\u001b[0;34m(.0)\u001b[0m\n\u001b[1;32m      5\u001b[0m \u001b[0mx_train\u001b[0m \u001b[0;34m=\u001b[0m \u001b[0mdf\u001b[0m\u001b[0;34m.\u001b[0m\u001b[0mfeatures\u001b[0m\u001b[0;34m\u001b[0m\u001b[0;34m\u001b[0m\u001b[0m\n\u001b[1;32m      6\u001b[0m y_train = np.array([1 if y == [df.favorable_label] else\n\u001b[0;32m----> 7\u001b[0;31m                            -1 for y in df.labels])\n\u001b[0m",
            "\u001b[0;31mAttributeError\u001b[0m: 'StructuredDataset' object has no attribute 'favorable_label'"
          ]
        }
      ]
    },
    {
      "cell_type": "markdown",
      "metadata": {
        "id": "sJ-t-LosCLpo",
        "colab_type": "text"
      },
      "source": [
        ""
      ]
    },
    {
      "cell_type": "code",
      "metadata": {
        "id": "FTU2tQEilwJL",
        "colab_type": "code",
        "colab": {
          "base_uri": "https://localhost:8080/",
          "height": 34
        },
        "outputId": "12ef4d56-4567-41dc-817f-192891e694ca"
      },
      "source": [
        "#struc_dataset = aif360.datasets.StructuredDataset(np_dataset, label_names=labels, protected_attribute_names='Race)')\n",
        "\n",
        "#aif360.algorithms.preprocessing.DisparateImpactRemover(repair_level=1, sensitive_attribute_names='Race')\n",
        "\n",
        "#{df = aif360.datasets.StructuredDataset(proc_dataset, labels, protected_attribute_names=unprivileged_groupe)\n",
        "print(protected_attribute)"
      ],
      "execution_count": 40,
      "outputs": [
        {
          "output_type": "stream",
          "text": [
            "['Race']\n"
          ],
          "name": "stdout"
        }
      ]
    },
    {
      "cell_type": "code",
      "metadata": {
        "id": "G0Mh8zAlRlIg",
        "colab_type": "code",
        "outputId": "e322ddbc-af2c-417c-dec5-9e3a8d2bf5bb",
        "colab": {
          "base_uri": "https://localhost:8080/",
          "height": 332
        }
      },
      "source": [
        "h = aif360.datasets.BinaryLabelDataset(favorable_label=1, unfavorable_label=0, df = train['Combine'], label_names = labels,protected_attribute_names=protected_attribute)"
      ],
      "execution_count": 42,
      "outputs": [
        {
          "output_type": "error",
          "ename": "AttributeError",
          "evalue": "ignored",
          "traceback": [
            "\u001b[0;31m---------------------------------------------------------------------------\u001b[0m",
            "\u001b[0;31mAttributeError\u001b[0m                            Traceback (most recent call last)",
            "\u001b[0;32m<ipython-input-42-aaad6d291982>\u001b[0m in \u001b[0;36m<module>\u001b[0;34m()\u001b[0m\n\u001b[0;32m----> 1\u001b[0;31m \u001b[0mh\u001b[0m \u001b[0;34m=\u001b[0m \u001b[0maif360\u001b[0m\u001b[0;34m.\u001b[0m\u001b[0mdatasets\u001b[0m\u001b[0;34m.\u001b[0m\u001b[0mBinaryLabelDataset\u001b[0m\u001b[0;34m(\u001b[0m\u001b[0mfavorable_label\u001b[0m\u001b[0;34m=\u001b[0m\u001b[0;36m1\u001b[0m\u001b[0;34m,\u001b[0m \u001b[0munfavorable_label\u001b[0m\u001b[0;34m=\u001b[0m\u001b[0;36m0\u001b[0m\u001b[0;34m,\u001b[0m \u001b[0mdf\u001b[0m \u001b[0;34m=\u001b[0m \u001b[0mtrain\u001b[0m\u001b[0;34m[\u001b[0m\u001b[0;34m'Combine'\u001b[0m\u001b[0;34m]\u001b[0m\u001b[0;34m,\u001b[0m \u001b[0mlabel_names\u001b[0m \u001b[0;34m=\u001b[0m \u001b[0mlabels\u001b[0m\u001b[0;34m,\u001b[0m\u001b[0mprotected_attribute_names\u001b[0m\u001b[0;34m=\u001b[0m\u001b[0mprotected_attribute\u001b[0m\u001b[0;34m)\u001b[0m\u001b[0;34m\u001b[0m\u001b[0;34m\u001b[0m\u001b[0m\n\u001b[0m",
            "\u001b[0;32m/usr/local/lib/python3.6/dist-packages/aif360/datasets/binary_label_dataset.py\u001b[0m in \u001b[0;36m__init__\u001b[0;34m(self, favorable_label, unfavorable_label, **kwargs)\u001b[0m\n\u001b[1;32m     19\u001b[0m         \u001b[0mself\u001b[0m\u001b[0;34m.\u001b[0m\u001b[0munfavorable_label\u001b[0m \u001b[0;34m=\u001b[0m \u001b[0mfloat\u001b[0m\u001b[0;34m(\u001b[0m\u001b[0munfavorable_label\u001b[0m\u001b[0;34m)\u001b[0m\u001b[0;34m\u001b[0m\u001b[0;34m\u001b[0m\u001b[0m\n\u001b[1;32m     20\u001b[0m \u001b[0;34m\u001b[0m\u001b[0m\n\u001b[0;32m---> 21\u001b[0;31m         \u001b[0msuper\u001b[0m\u001b[0;34m(\u001b[0m\u001b[0mBinaryLabelDataset\u001b[0m\u001b[0;34m,\u001b[0m \u001b[0mself\u001b[0m\u001b[0;34m)\u001b[0m\u001b[0;34m.\u001b[0m\u001b[0m__init__\u001b[0m\u001b[0;34m(\u001b[0m\u001b[0;34m**\u001b[0m\u001b[0mkwargs\u001b[0m\u001b[0;34m)\u001b[0m\u001b[0;34m\u001b[0m\u001b[0;34m\u001b[0m\u001b[0m\n\u001b[0m\u001b[1;32m     22\u001b[0m \u001b[0;34m\u001b[0m\u001b[0m\n\u001b[1;32m     23\u001b[0m     \u001b[0;32mdef\u001b[0m \u001b[0mvalidate_dataset\u001b[0m\u001b[0;34m(\u001b[0m\u001b[0mself\u001b[0m\u001b[0;34m)\u001b[0m\u001b[0;34m:\u001b[0m\u001b[0;34m\u001b[0m\u001b[0;34m\u001b[0m\u001b[0m\n",
            "\u001b[0;32m/usr/local/lib/python3.6/dist-packages/aif360/datasets/structured_dataset.py\u001b[0m in \u001b[0;36m__init__\u001b[0;34m(self, df, label_names, protected_attribute_names, instance_weights_name, scores_names, unprivileged_protected_attributes, privileged_protected_attributes, metadata)\u001b[0m\n\u001b[1;32m    100\u001b[0m \u001b[0;34m\u001b[0m\u001b[0m\n\u001b[1;32m    101\u001b[0m         \u001b[0;31m# Convert all column names to strings\u001b[0m\u001b[0;34m\u001b[0m\u001b[0;34m\u001b[0m\u001b[0;34m\u001b[0m\u001b[0m\n\u001b[0;32m--> 102\u001b[0;31m         \u001b[0mdf\u001b[0m\u001b[0;34m.\u001b[0m\u001b[0mcolumns\u001b[0m \u001b[0;34m=\u001b[0m \u001b[0mdf\u001b[0m\u001b[0;34m.\u001b[0m\u001b[0mcolumns\u001b[0m\u001b[0;34m.\u001b[0m\u001b[0mastype\u001b[0m\u001b[0;34m(\u001b[0m\u001b[0mstr\u001b[0m\u001b[0;34m)\u001b[0m\u001b[0;34m.\u001b[0m\u001b[0mtolist\u001b[0m\u001b[0;34m(\u001b[0m\u001b[0;34m)\u001b[0m\u001b[0;34m\u001b[0m\u001b[0;34m\u001b[0m\u001b[0m\n\u001b[0m\u001b[1;32m    103\u001b[0m         \u001b[0mlabel_names\u001b[0m \u001b[0;34m=\u001b[0m \u001b[0mlist\u001b[0m\u001b[0;34m(\u001b[0m\u001b[0mmap\u001b[0m\u001b[0;34m(\u001b[0m\u001b[0mstr\u001b[0m\u001b[0;34m,\u001b[0m \u001b[0mlabel_names\u001b[0m\u001b[0;34m)\u001b[0m\u001b[0;34m)\u001b[0m\u001b[0;34m\u001b[0m\u001b[0;34m\u001b[0m\u001b[0m\n\u001b[1;32m    104\u001b[0m         \u001b[0mprotected_attribute_names\u001b[0m \u001b[0;34m=\u001b[0m \u001b[0mlist\u001b[0m\u001b[0;34m(\u001b[0m\u001b[0mmap\u001b[0m\u001b[0;34m(\u001b[0m\u001b[0mstr\u001b[0m\u001b[0;34m,\u001b[0m \u001b[0mprotected_attribute_names\u001b[0m\u001b[0;34m)\u001b[0m\u001b[0;34m)\u001b[0m\u001b[0;34m\u001b[0m\u001b[0;34m\u001b[0m\u001b[0m\n",
            "\u001b[0;32m/usr/local/lib/python3.6/dist-packages/pandas/core/generic.py\u001b[0m in \u001b[0;36m__getattr__\u001b[0;34m(self, name)\u001b[0m\n\u001b[1;32m   5173\u001b[0m             \u001b[0;32mor\u001b[0m \u001b[0mname\u001b[0m \u001b[0;32min\u001b[0m \u001b[0mself\u001b[0m\u001b[0;34m.\u001b[0m\u001b[0m_accessors\u001b[0m\u001b[0;34m\u001b[0m\u001b[0;34m\u001b[0m\u001b[0m\n\u001b[1;32m   5174\u001b[0m         ):\n\u001b[0;32m-> 5175\u001b[0;31m             \u001b[0;32mreturn\u001b[0m \u001b[0mobject\u001b[0m\u001b[0;34m.\u001b[0m\u001b[0m__getattribute__\u001b[0m\u001b[0;34m(\u001b[0m\u001b[0mself\u001b[0m\u001b[0;34m,\u001b[0m \u001b[0mname\u001b[0m\u001b[0;34m)\u001b[0m\u001b[0;34m\u001b[0m\u001b[0;34m\u001b[0m\u001b[0m\n\u001b[0m\u001b[1;32m   5176\u001b[0m         \u001b[0;32melse\u001b[0m\u001b[0;34m:\u001b[0m\u001b[0;34m\u001b[0m\u001b[0;34m\u001b[0m\u001b[0m\n\u001b[1;32m   5177\u001b[0m             \u001b[0;32mif\u001b[0m \u001b[0mself\u001b[0m\u001b[0;34m.\u001b[0m\u001b[0m_info_axis\u001b[0m\u001b[0;34m.\u001b[0m\u001b[0m_can_hold_identifiers_and_holds_name\u001b[0m\u001b[0;34m(\u001b[0m\u001b[0mname\u001b[0m\u001b[0;34m)\u001b[0m\u001b[0;34m:\u001b[0m\u001b[0;34m\u001b[0m\u001b[0;34m\u001b[0m\u001b[0m\n",
            "\u001b[0;31mAttributeError\u001b[0m: 'Series' object has no attribute 'columns'"
          ]
        }
      ]
    },
    {
      "cell_type": "markdown",
      "metadata": {
        "id": "LNS_dUtrEoeI",
        "colab_type": "text"
      },
      "source": [
        "In Processing\n",
        "\n",
        "\n",
        "We will apply different algorihtms"
      ]
    },
    {
      "cell_type": "code",
      "metadata": {
        "id": "Xc3dVPJtC94I",
        "colab_type": "code",
        "colab": {}
      },
      "source": [
        "import tensorflow as tf\n",
        "\n",
        "sess = tf.Session()\n"
      ],
      "execution_count": 0,
      "outputs": []
    },
    {
      "cell_type": "code",
      "metadata": {
        "id": "rnYz8kAwsnDz",
        "colab_type": "code",
        "colab": {
          "base_uri": "https://localhost:8080/",
          "height": 377
        },
        "outputId": "796680eb-66d0-43bb-d551-7f39b0a5176d"
      },
      "source": [
        "# Metric for the original dataset\n",
        "\n",
        "metric_orig_train = aif360.metrics.BinaryLabelDatasetMetric(train, \n",
        "                                             unprivileged_groups=unprivileged_group,\n",
        "                                             privileged_groups=privileged_group)\n",
        "#display(Markdown(\"#### Original training dataset\"))\n",
        "print(\"Difference in mean outcomes between unprivileged and privileged groups = %f\" % metric_orig_train.mean_difference())"
      ],
      "execution_count": 97,
      "outputs": [
        {
          "output_type": "error",
          "ename": "TypeError",
          "evalue": "ignored",
          "traceback": [
            "\u001b[0;31m---------------------------------------------------------------------------\u001b[0m",
            "\u001b[0;31mTypeError\u001b[0m                                 Traceback (most recent call last)",
            "\u001b[0;32m<ipython-input-97-8f51fa2f55fa>\u001b[0m in \u001b[0;36m<module>\u001b[0;34m()\u001b[0m\n\u001b[1;32m      2\u001b[0m metric_orig_train = aif360.metrics.BinaryLabelDatasetMetric(train, \n\u001b[1;32m      3\u001b[0m                                              \u001b[0munprivileged_groups\u001b[0m\u001b[0;34m=\u001b[0m\u001b[0munprivileged_group\u001b[0m\u001b[0;34m,\u001b[0m\u001b[0;34m\u001b[0m\u001b[0;34m\u001b[0m\u001b[0m\n\u001b[0;32m----> 4\u001b[0;31m                                              privileged_groups=privileged_group)\n\u001b[0m\u001b[1;32m      5\u001b[0m \u001b[0;31m#display(Markdown(\"#### Original training dataset\"))\u001b[0m\u001b[0;34m\u001b[0m\u001b[0;34m\u001b[0m\u001b[0;34m\u001b[0m\u001b[0m\n\u001b[1;32m      6\u001b[0m \u001b[0mprint\u001b[0m\u001b[0;34m(\u001b[0m\u001b[0;34m\"Difference in mean outcomes between unprivileged and privileged groups = %f\"\u001b[0m \u001b[0;34m%\u001b[0m \u001b[0mmetric_orig_train\u001b[0m\u001b[0;34m.\u001b[0m\u001b[0mmean_difference\u001b[0m\u001b[0;34m(\u001b[0m\u001b[0;34m)\u001b[0m\u001b[0;34m)\u001b[0m\u001b[0;34m\u001b[0m\u001b[0;34m\u001b[0m\u001b[0m\n",
            "\u001b[0;32m/usr/local/lib/python3.6/dist-packages/aif360/metrics/binary_label_dataset_metric.py\u001b[0m in \u001b[0;36m__init__\u001b[0;34m(self, dataset, unprivileged_groups, privileged_groups)\u001b[0m\n\u001b[1;32m     27\u001b[0m         \"\"\"\n\u001b[1;32m     28\u001b[0m         \u001b[0;32mif\u001b[0m \u001b[0;32mnot\u001b[0m \u001b[0misinstance\u001b[0m\u001b[0;34m(\u001b[0m\u001b[0mdataset\u001b[0m\u001b[0;34m,\u001b[0m \u001b[0mBinaryLabelDataset\u001b[0m\u001b[0;34m)\u001b[0m\u001b[0;34m:\u001b[0m\u001b[0;34m\u001b[0m\u001b[0;34m\u001b[0m\u001b[0m\n\u001b[0;32m---> 29\u001b[0;31m             \u001b[0;32mraise\u001b[0m \u001b[0mTypeError\u001b[0m\u001b[0;34m(\u001b[0m\u001b[0;34m\"'dataset' should be a BinaryLabelDataset\"\u001b[0m\u001b[0;34m)\u001b[0m\u001b[0;34m\u001b[0m\u001b[0;34m\u001b[0m\u001b[0m\n\u001b[0m\u001b[1;32m     30\u001b[0m \u001b[0;34m\u001b[0m\u001b[0m\n\u001b[1;32m     31\u001b[0m         \u001b[0;31m# sets self.dataset, self.unprivileged_groups, self.privileged_groups\u001b[0m\u001b[0;34m\u001b[0m\u001b[0;34m\u001b[0m\u001b[0;34m\u001b[0m\u001b[0m\n",
            "\u001b[0;31mTypeError\u001b[0m: 'dataset' should be a BinaryLabelDataset"
          ]
        }
      ]
    }
  ]
}